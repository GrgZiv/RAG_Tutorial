{
 "cells": [
  {
   "cell_type": "markdown",
   "metadata": {
    "id": "SQMX4neA38At"
   },
   "source": [
    "#<h1><center>**Retreival Augmented Generation (RAG)**</center></h1>\n",
    "---\n",
    "#<h2><center>*Grgur Živković*</center></h2>\n",
    "#<h3><center>*February, 2024*</center></h3>"
   ]
  },
  {
   "cell_type": "markdown",
   "metadata": {
    "id": "taokuxzkMEc3"
   },
   "source": [
    "The challenge ->  *Large Language Models (LLMs)*, like ChatGPT, Gemini (and many others) are getting better at answering your questions every day. But they still have some weaknesses:  \n",
    "*   Knowing stuff about specific topics (domain knowledge)\n",
    "*   Keeping their information up-to-date (staying current)\n",
    "\n",
    "One solution to these problems is  ***RAG* (Retrieval Augmented Generation)**:\n",
    "\n",
    "\n",
    "*   '*Augmented Generation*' -> The idea is to take a pre-trained model (one that already understands language and can answer questions) and \"boost\" its prompt with relevant information it wouldn't normally have access to. With this extra info, the model can use its language skills to craft a more comprehensive answer.\n",
    "*   '*Retrieval*' ->  Where does this extra info come from? All sorts of places! PDFs, Word docs, Excel sheets, even code (SQL) and web pages (HTML, XML). Depending on the source, different algorithms can be used to efficiently extract the good stuff from these documents.\n",
    "\n",
    "\n",
    "\n"
   ]
  },
  {
   "cell_type": "markdown",
   "metadata": {
    "id": "_g7aOxiE38Av"
   },
   "source": [
    "### 1. INSTALATION"
   ]
  },
  {
   "cell_type": "markdown",
   "metadata": {
    "id": "1G3AmEW3SdHp"
   },
   "source": [
    "**Important note:** Make sure to set the *runtime* to a  **T4 GPU**.\n",
    "\n",
    "*   llama-cpp-python -> This tool is used to run LLMs locally.  \n",
    "\n",
    "To run an LLM using a GPU, you'll need to use the following command:  \n",
    "\n",
    "\n",
    "\n",
    "\n",
    "\n"
   ]
  },
  {
   "cell_type": "code",
   "execution_count": 1,
   "metadata": {
    "colab": {
     "base_uri": "https://localhost:8080/"
    },
    "executionInfo": {
     "elapsed": 117896,
     "status": "ok",
     "timestamp": 1712047189804,
     "user": {
      "displayName": "Grgur Živković",
      "userId": "06498802482468520107"
     },
     "user_tz": -120
    },
    "id": "iN2ytgssfVK4",
    "outputId": "8070adf2-1d26-430e-ac74-8a0708191624"
   },
   "outputs": [
    {
     "name": "stdout",
     "output_type": "stream",
     "text": [
      "Using pip 23.1.2 from /usr/local/lib/python3.10/dist-packages/pip (python 3.10)\n",
      "Collecting llama-cpp-python==0.1.78\n",
      "  Downloading llama_cpp_python-0.1.78.tar.gz (1.7 MB)\n",
      "\u001b[2K     \u001b[90m━━━━━━━━━━━━━━━━━━━━━━━━━━━━━━━━━━━━━━━━\u001b[0m \u001b[32m1.7/1.7 MB\u001b[0m \u001b[31m27.2 MB/s\u001b[0m eta \u001b[36m0:00:00\u001b[0m\n",
      "\u001b[?25h  Running command pip subprocess to install build dependencies\n",
      "  Using pip 23.1.2 from /usr/local/lib/python3.10/dist-packages/pip (python 3.10)\n",
      "  Collecting setuptools>=42\n",
      "    Downloading setuptools-69.2.0-py3-none-any.whl (821 kB)\n",
      "       ━━━━━━━━━━━━━━━━━━━━━━━━━━━━━━━━━━━━━━━━ 821.5/821.5 kB 12.1 MB/s eta 0:00:00\n",
      "  Collecting scikit-build>=0.13\n",
      "    Downloading scikit_build-0.17.6-py3-none-any.whl (84 kB)\n",
      "       ━━━━━━━━━━━━━━━━━━━━━━━━━━━━━━━━━━━━━━━━ 84.3/84.3 kB 8.8 MB/s eta 0:00:00\n",
      "  Collecting cmake>=3.18\n",
      "    Downloading cmake-3.29.0.1-py3-none-manylinux_2_17_x86_64.manylinux2014_x86_64.whl (26.6 MB)\n",
      "       ━━━━━━━━━━━━━━━━━━━━━━━━━━━━━━━━━━━━━━━━ 26.6/26.6 MB 30.7 MB/s eta 0:00:00\n",
      "  Collecting ninja\n",
      "    Downloading ninja-1.11.1.1-py2.py3-none-manylinux1_x86_64.manylinux_2_5_x86_64.whl (307 kB)\n",
      "       ━━━━━━━━━━━━━━━━━━━━━━━━━━━━━━━━━━━━━━━━ 307.2/307.2 kB 23.3 MB/s eta 0:00:00\n",
      "  Collecting distro (from scikit-build>=0.13)\n",
      "    Downloading distro-1.9.0-py3-none-any.whl (20 kB)\n",
      "  Collecting packaging (from scikit-build>=0.13)\n",
      "    Downloading packaging-24.0-py3-none-any.whl (53 kB)\n",
      "       ━━━━━━━━━━━━━━━━━━━━━━━━━━━━━━━━━━━━━━━━ 53.5/53.5 kB 4.3 MB/s eta 0:00:00\n",
      "  Collecting tomli (from scikit-build>=0.13)\n",
      "    Downloading tomli-2.0.1-py3-none-any.whl (12 kB)\n",
      "  Collecting wheel>=0.32.0 (from scikit-build>=0.13)\n",
      "    Downloading wheel-0.43.0-py3-none-any.whl (65 kB)\n",
      "       ━━━━━━━━━━━━━━━━━━━━━━━━━━━━━━━━━━━━━━━━ 65.8/65.8 kB 5.4 MB/s eta 0:00:00\n",
      "  Installing collected packages: ninja, wheel, tomli, setuptools, packaging, distro, cmake, scikit-build\n",
      "    Creating /tmp/pip-build-env-se7zn9pw/overlay/local/bin\n",
      "    changing mode of /tmp/pip-build-env-se7zn9pw/overlay/local/bin/ninja to 755\n",
      "    changing mode of /tmp/pip-build-env-se7zn9pw/overlay/local/bin/wheel to 755\n",
      "    changing mode of /tmp/pip-build-env-se7zn9pw/overlay/local/bin/distro to 755\n",
      "    changing mode of /tmp/pip-build-env-se7zn9pw/overlay/local/bin/cmake to 755\n",
      "    changing mode of /tmp/pip-build-env-se7zn9pw/overlay/local/bin/cpack to 755\n",
      "    changing mode of /tmp/pip-build-env-se7zn9pw/overlay/local/bin/ctest to 755\n",
      "  ERROR: pip's dependency resolver does not currently take into account all the packages that are installed. This behaviour is the source of the following dependency conflicts.\n",
      "  ipython 7.34.0 requires jedi>=0.16, which is not installed.\n",
      "  Successfully installed cmake-3.29.0.1 distro-1.9.0 ninja-1.11.1.1 packaging-24.0 scikit-build-0.17.6 setuptools-69.2.0 tomli-2.0.1 wheel-0.43.0\n",
      "  Installing build dependencies ... \u001b[?25l\u001b[?25hdone\n",
      "  Running command Getting requirements to build wheel\n",
      "  running egg_info\n",
      "  writing llama_cpp_python.egg-info/PKG-INFO\n",
      "  writing dependency_links to llama_cpp_python.egg-info/dependency_links.txt\n",
      "  writing requirements to llama_cpp_python.egg-info/requires.txt\n",
      "  writing top-level names to llama_cpp_python.egg-info/top_level.txt\n",
      "  reading manifest file 'llama_cpp_python.egg-info/SOURCES.txt'\n",
      "  adding license file 'LICENSE.md'\n",
      "  writing manifest file 'llama_cpp_python.egg-info/SOURCES.txt'\n",
      "  Getting requirements to build wheel ... \u001b[?25l\u001b[?25hdone\n",
      "  Running command Preparing metadata (pyproject.toml)\n",
      "  running dist_info\n",
      "  creating /tmp/pip-modern-metadata-kz0_pfrl/llama_cpp_python.egg-info\n",
      "  writing /tmp/pip-modern-metadata-kz0_pfrl/llama_cpp_python.egg-info/PKG-INFO\n",
      "  writing dependency_links to /tmp/pip-modern-metadata-kz0_pfrl/llama_cpp_python.egg-info/dependency_links.txt\n",
      "  writing requirements to /tmp/pip-modern-metadata-kz0_pfrl/llama_cpp_python.egg-info/requires.txt\n",
      "  writing top-level names to /tmp/pip-modern-metadata-kz0_pfrl/llama_cpp_python.egg-info/top_level.txt\n",
      "  writing manifest file '/tmp/pip-modern-metadata-kz0_pfrl/llama_cpp_python.egg-info/SOURCES.txt'\n",
      "  reading manifest file '/tmp/pip-modern-metadata-kz0_pfrl/llama_cpp_python.egg-info/SOURCES.txt'\n",
      "  adding license file 'LICENSE.md'\n",
      "  writing manifest file '/tmp/pip-modern-metadata-kz0_pfrl/llama_cpp_python.egg-info/SOURCES.txt'\n",
      "  creating '/tmp/pip-modern-metadata-kz0_pfrl/llama_cpp_python-0.1.78.dist-info'\n",
      "  Preparing metadata (pyproject.toml) ... \u001b[?25l\u001b[?25hdone\n",
      "Collecting typing-extensions>=4.5.0 (from llama-cpp-python==0.1.78)\n",
      "  Downloading typing_extensions-4.10.0-py3-none-any.whl (33 kB)\n",
      "Collecting numpy>=1.20.0 (from llama-cpp-python==0.1.78)\n",
      "  Downloading numpy-1.26.4-cp310-cp310-manylinux_2_17_x86_64.manylinux2014_x86_64.whl (18.2 MB)\n",
      "\u001b[2K     \u001b[90m━━━━━━━━━━━━━━━━━━━━━━━━━━━━━━━━━━━━━━━━\u001b[0m \u001b[32m18.2/18.2 MB\u001b[0m \u001b[31m185.7 MB/s\u001b[0m eta \u001b[36m0:00:00\u001b[0m\n",
      "\u001b[?25hCollecting diskcache>=5.6.1 (from llama-cpp-python==0.1.78)\n",
      "  Downloading diskcache-5.6.3-py3-none-any.whl (45 kB)\n",
      "\u001b[2K     \u001b[90m━━━━━━━━━━━━━━━━━━━━━━━━━━━━━━━━━━━━━━━━\u001b[0m \u001b[32m45.5/45.5 kB\u001b[0m \u001b[31m247.1 MB/s\u001b[0m eta \u001b[36m0:00:00\u001b[0m\n",
      "\u001b[?25hBuilding wheels for collected packages: llama-cpp-python\n",
      "  Running command Building wheel for llama-cpp-python (pyproject.toml)\n",
      "\n",
      "\n",
      "  --------------------------------------------------------------------------------\n",
      "  -- Trying 'Ninja' generator\n",
      "  --------------------------------\n",
      "  ---------------------------\n",
      "  ----------------------\n",
      "  -----------------\n",
      "  ------------\n",
      "  -------\n",
      "  --\n",
      "  CMake Deprecation Warning at CMakeLists.txt:1 (cmake_minimum_required):\n",
      "    Compatibility with CMake < 3.5 will be removed from a future version of\n",
      "    CMake.\n",
      "\n",
      "    Update the VERSION argument <min> value or use a ...<max> suffix to tell\n",
      "    CMake that the project does not need compatibility with older versions.\n",
      "\n",
      "  Not searching for unused variables given on the command line.\n",
      "\n",
      "  -- The C compiler identification is GNU 11.4.0\n",
      "  -- Detecting C compiler ABI info\n",
      "  -- Detecting C compiler ABI info - done\n",
      "  -- Check for working C compiler: /usr/bin/cc - skipped\n",
      "  -- Detecting C compile features\n",
      "  -- Detecting C compile features - done\n",
      "  -- The CXX compiler identification is GNU 11.4.0\n",
      "  -- Detecting CXX compiler ABI info\n",
      "  -- Detecting CXX compiler ABI info - done\n",
      "  -- Check for working CXX compiler: /usr/bin/c++ - skipped\n",
      "  -- Detecting CXX compile features\n",
      "  -- Detecting CXX compile features - done\n",
      "  -- Configuring done (0.7s)\n",
      "  -- Generating done (0.0s)\n",
      "  -- Build files have been written to: /tmp/pip-install-d39n7eet/llama-cpp-python_2ad0600842dc4348879aeb0f35cdc0ee/_cmake_test_compile/build\n",
      "  --\n",
      "  -------\n",
      "  ------------\n",
      "  -----------------\n",
      "  ----------------------\n",
      "  ---------------------------\n",
      "  --------------------------------\n",
      "  -- Trying 'Ninja' generator - success\n",
      "  --------------------------------------------------------------------------------\n",
      "\n",
      "  Configuring Project\n",
      "    Working directory:\n",
      "      /tmp/pip-install-d39n7eet/llama-cpp-python_2ad0600842dc4348879aeb0f35cdc0ee/_skbuild/linux-x86_64-3.10/cmake-build\n",
      "    Command:\n",
      "      /tmp/pip-build-env-se7zn9pw/overlay/local/lib/python3.10/dist-packages/cmake/data/bin/cmake /tmp/pip-install-d39n7eet/llama-cpp-python_2ad0600842dc4348879aeb0f35cdc0ee -G Ninja -DCMAKE_MAKE_PROGRAM:FILEPATH=/tmp/pip-build-env-se7zn9pw/overlay/local/lib/python3.10/dist-packages/ninja/data/bin/ninja --no-warn-unused-cli -DCMAKE_INSTALL_PREFIX:PATH=/tmp/pip-install-d39n7eet/llama-cpp-python_2ad0600842dc4348879aeb0f35cdc0ee/_skbuild/linux-x86_64-3.10/cmake-install -DPYTHON_VERSION_STRING:STRING=3.10.12 -DSKBUILD:INTERNAL=TRUE -DCMAKE_MODULE_PATH:PATH=/tmp/pip-build-env-se7zn9pw/overlay/local/lib/python3.10/dist-packages/skbuild/resources/cmake -DPYTHON_EXECUTABLE:PATH=/usr/bin/python3 -DPYTHON_INCLUDE_DIR:PATH=/usr/include/python3.10 -DPYTHON_LIBRARY:PATH=/usr/lib/x86_64-linux-gnu/libpython3.10.so -DPython_EXECUTABLE:PATH=/usr/bin/python3 -DPython_ROOT_DIR:PATH=/usr -DPython_FIND_REGISTRY:STRING=NEVER -DPython_INCLUDE_DIR:PATH=/usr/include/python3.10 -DPython3_EXECUTABLE:PATH=/usr/bin/python3 -DPython3_ROOT_DIR:PATH=/usr -DPython3_FIND_REGISTRY:STRING=NEVER -DPython3_INCLUDE_DIR:PATH=/usr/include/python3.10 -DCMAKE_MAKE_PROGRAM:FILEPATH=/tmp/pip-build-env-se7zn9pw/overlay/local/lib/python3.10/dist-packages/ninja/data/bin/ninja -DLLAMA_CUBLAS=on -DCMAKE_BUILD_TYPE:STRING=Release -DLLAMA_CUBLAS=on\n",
      "\n",
      "  Not searching for unused variables given on the command line.\n",
      "  -- The C compiler identification is GNU 11.4.0\n",
      "  -- The CXX compiler identification is GNU 11.4.0\n",
      "  -- Detecting C compiler ABI info\n",
      "  -- Detecting C compiler ABI info - done\n",
      "  -- Check for working C compiler: /usr/bin/cc - skipped\n",
      "  -- Detecting C compile features\n",
      "  -- Detecting C compile features - done\n",
      "  -- Detecting CXX compiler ABI info\n",
      "  -- Detecting CXX compiler ABI info - done\n",
      "  -- Check for working CXX compiler: /usr/bin/c++ - skipped\n",
      "  -- Detecting CXX compile features\n",
      "  -- Detecting CXX compile features - done\n",
      "  -- Found Git: /usr/bin/git (found version \"2.34.1\")\n",
      "  fatal: not a git repository (or any of the parent directories): .git\n",
      "  fatal: not a git repository (or any of the parent directories): .git\n",
      "  CMake Warning at vendor/llama.cpp/CMakeLists.txt:117 (message):\n",
      "    Git repository not found; to enable automatic generation of build info,\n",
      "    make sure Git is installed and the project is a Git repository.\n",
      "\n",
      "\n",
      "  -- Performing Test CMAKE_HAVE_LIBC_PTHREAD\n",
      "  -- Performing Test CMAKE_HAVE_LIBC_PTHREAD - Success\n",
      "  -- Found Threads: TRUE\n",
      "  -- Found CUDAToolkit: /usr/local/cuda/targets/x86_64-linux/include (found version \"12.2.140\")\n",
      "  -- cuBLAS found\n",
      "  -- The CUDA compiler identification is NVIDIA 12.2.140\n",
      "  -- Detecting CUDA compiler ABI info\n",
      "  -- Detecting CUDA compiler ABI info - done\n",
      "  -- Check for working CUDA compiler: /usr/local/cuda/bin/nvcc - skipped\n",
      "  -- Detecting CUDA compile features\n",
      "  -- Detecting CUDA compile features - done\n",
      "  -- Using CUDA architectures: 52;61;70\n",
      "  -- CMAKE_SYSTEM_PROCESSOR: x86_64\n",
      "  -- x86 detected\n",
      "  -- Configuring done (3.6s)\n",
      "  -- Generating done (0.0s)\n",
      "  -- Build files have been written to: /tmp/pip-install-d39n7eet/llama-cpp-python_2ad0600842dc4348879aeb0f35cdc0ee/_skbuild/linux-x86_64-3.10/cmake-build\n",
      "  [1/9] Building C object vendor/llama.cpp/CMakeFiles/ggml.dir/ggml-alloc.c.o\n",
      "  [2/9] Building C object vendor/llama.cpp/CMakeFiles/ggml.dir/k_quants.c.o\n",
      "  [3/9] Building C object vendor/llama.cpp/CMakeFiles/ggml.dir/ggml.c.o\n",
      "  [4/9] Building CXX object vendor/llama.cpp/CMakeFiles/llama.dir/llama.cpp.o\n",
      "  [5/9] Building CUDA object vendor/llama.cpp/CMakeFiles/ggml.dir/ggml-cuda.cu.o\n",
      "  [6/9] Linking CUDA shared library vendor/llama.cpp/libggml_shared.so\n",
      "  [7/9] Linking CXX shared library vendor/llama.cpp/libllama.so\n",
      "  [8/9] Linking CUDA static library vendor/llama.cpp/libggml_static.a\n",
      "  [8/9] Install the project...\n",
      "  -- Install configuration: \"Release\"\n",
      "  -- Installing: /tmp/pip-install-d39n7eet/llama-cpp-python_2ad0600842dc4348879aeb0f35cdc0ee/_skbuild/linux-x86_64-3.10/cmake-install/lib/libggml_shared.so\n",
      "  -- Installing: /tmp/pip-install-d39n7eet/llama-cpp-python_2ad0600842dc4348879aeb0f35cdc0ee/_skbuild/linux-x86_64-3.10/cmake-install/lib/libllama.so\n",
      "  -- Set non-toolchain portion of runtime path of \"/tmp/pip-install-d39n7eet/llama-cpp-python_2ad0600842dc4348879aeb0f35cdc0ee/_skbuild/linux-x86_64-3.10/cmake-install/lib/libllama.so\" to \"\"\n",
      "  -- Installing: /tmp/pip-install-d39n7eet/llama-cpp-python_2ad0600842dc4348879aeb0f35cdc0ee/_skbuild/linux-x86_64-3.10/cmake-install/bin/convert.py\n",
      "  -- Installing: /tmp/pip-install-d39n7eet/llama-cpp-python_2ad0600842dc4348879aeb0f35cdc0ee/_skbuild/linux-x86_64-3.10/cmake-install/bin/convert-lora-to-ggml.py\n",
      "  -- Installing: /tmp/pip-install-d39n7eet/llama-cpp-python_2ad0600842dc4348879aeb0f35cdc0ee/_skbuild/linux-x86_64-3.10/cmake-install/llama_cpp/libllama.so\n",
      "  -- Set non-toolchain portion of runtime path of \"/tmp/pip-install-d39n7eet/llama-cpp-python_2ad0600842dc4348879aeb0f35cdc0ee/_skbuild/linux-x86_64-3.10/cmake-install/llama_cpp/libllama.so\" to \"\"\n",
      "\n",
      "  copying llama_cpp/utils.py -> _skbuild/linux-x86_64-3.10/cmake-install/llama_cpp/utils.py\n",
      "  copying llama_cpp/llama.py -> _skbuild/linux-x86_64-3.10/cmake-install/llama_cpp/llama.py\n",
      "  copying llama_cpp/llama_grammar.py -> _skbuild/linux-x86_64-3.10/cmake-install/llama_cpp/llama_grammar.py\n",
      "  copying llama_cpp/llama_cpp.py -> _skbuild/linux-x86_64-3.10/cmake-install/llama_cpp/llama_cpp.py\n",
      "  copying llama_cpp/__init__.py -> _skbuild/linux-x86_64-3.10/cmake-install/llama_cpp/__init__.py\n",
      "  copying llama_cpp/llama_types.py -> _skbuild/linux-x86_64-3.10/cmake-install/llama_cpp/llama_types.py\n",
      "  creating directory _skbuild/linux-x86_64-3.10/cmake-install/llama_cpp/server\n",
      "  copying llama_cpp/server/__init__.py -> _skbuild/linux-x86_64-3.10/cmake-install/llama_cpp/server/__init__.py\n",
      "  copying llama_cpp/server/app.py -> _skbuild/linux-x86_64-3.10/cmake-install/llama_cpp/server/app.py\n",
      "  copying llama_cpp/server/__main__.py -> _skbuild/linux-x86_64-3.10/cmake-install/llama_cpp/server/__main__.py\n",
      "  copying /tmp/pip-install-d39n7eet/llama-cpp-python_2ad0600842dc4348879aeb0f35cdc0ee/llama_cpp/py.typed -> _skbuild/linux-x86_64-3.10/cmake-install/llama_cpp/py.typed\n",
      "\n",
      "  running bdist_wheel\n",
      "  running build\n",
      "  running build_py\n",
      "  creating _skbuild/linux-x86_64-3.10/setuptools/lib.linux-x86_64-cpython-310\n",
      "  creating _skbuild/linux-x86_64-3.10/setuptools/lib.linux-x86_64-cpython-310/llama_cpp\n",
      "  copying _skbuild/linux-x86_64-3.10/cmake-install/llama_cpp/utils.py -> _skbuild/linux-x86_64-3.10/setuptools/lib.linux-x86_64-cpython-310/llama_cpp\n",
      "  copying _skbuild/linux-x86_64-3.10/cmake-install/llama_cpp/llama.py -> _skbuild/linux-x86_64-3.10/setuptools/lib.linux-x86_64-cpython-310/llama_cpp\n",
      "  copying _skbuild/linux-x86_64-3.10/cmake-install/llama_cpp/llama_grammar.py -> _skbuild/linux-x86_64-3.10/setuptools/lib.linux-x86_64-cpython-310/llama_cpp\n",
      "  copying _skbuild/linux-x86_64-3.10/cmake-install/llama_cpp/llama_cpp.py -> _skbuild/linux-x86_64-3.10/setuptools/lib.linux-x86_64-cpython-310/llama_cpp\n",
      "  copying _skbuild/linux-x86_64-3.10/cmake-install/llama_cpp/__init__.py -> _skbuild/linux-x86_64-3.10/setuptools/lib.linux-x86_64-cpython-310/llama_cpp\n",
      "  copying _skbuild/linux-x86_64-3.10/cmake-install/llama_cpp/llama_types.py -> _skbuild/linux-x86_64-3.10/setuptools/lib.linux-x86_64-cpython-310/llama_cpp\n",
      "  creating _skbuild/linux-x86_64-3.10/setuptools/lib.linux-x86_64-cpython-310/llama_cpp/server\n",
      "  copying _skbuild/linux-x86_64-3.10/cmake-install/llama_cpp/server/__init__.py -> _skbuild/linux-x86_64-3.10/setuptools/lib.linux-x86_64-cpython-310/llama_cpp/server\n",
      "  copying _skbuild/linux-x86_64-3.10/cmake-install/llama_cpp/server/app.py -> _skbuild/linux-x86_64-3.10/setuptools/lib.linux-x86_64-cpython-310/llama_cpp/server\n",
      "  copying _skbuild/linux-x86_64-3.10/cmake-install/llama_cpp/server/__main__.py -> _skbuild/linux-x86_64-3.10/setuptools/lib.linux-x86_64-cpython-310/llama_cpp/server\n",
      "  copying _skbuild/linux-x86_64-3.10/cmake-install/llama_cpp/py.typed -> _skbuild/linux-x86_64-3.10/setuptools/lib.linux-x86_64-cpython-310/llama_cpp\n",
      "  copying _skbuild/linux-x86_64-3.10/cmake-install/llama_cpp/libllama.so -> _skbuild/linux-x86_64-3.10/setuptools/lib.linux-x86_64-cpython-310/llama_cpp\n",
      "  copying _skbuild/linux-x86_64-3.10/cmake-install/llama_cpp/utils.py -> _skbuild/linux-x86_64-3.10/setuptools/lib.linux-x86_64-cpython-310/llama_cpp\n",
      "  copying _skbuild/linux-x86_64-3.10/cmake-install/llama_cpp/llama.py -> _skbuild/linux-x86_64-3.10/setuptools/lib.linux-x86_64-cpython-310/llama_cpp\n",
      "  copying _skbuild/linux-x86_64-3.10/cmake-install/llama_cpp/llama_grammar.py -> _skbuild/linux-x86_64-3.10/setuptools/lib.linux-x86_64-cpython-310/llama_cpp\n",
      "  copying _skbuild/linux-x86_64-3.10/cmake-install/llama_cpp/llama_cpp.py -> _skbuild/linux-x86_64-3.10/setuptools/lib.linux-x86_64-cpython-310/llama_cpp\n",
      "  copying _skbuild/linux-x86_64-3.10/cmake-install/llama_cpp/__init__.py -> _skbuild/linux-x86_64-3.10/setuptools/lib.linux-x86_64-cpython-310/llama_cpp\n",
      "  copying _skbuild/linux-x86_64-3.10/cmake-install/llama_cpp/llama_types.py -> _skbuild/linux-x86_64-3.10/setuptools/lib.linux-x86_64-cpython-310/llama_cpp\n",
      "  copying _skbuild/linux-x86_64-3.10/cmake-install/llama_cpp/server/__init__.py -> _skbuild/linux-x86_64-3.10/setuptools/lib.linux-x86_64-cpython-310/llama_cpp/server\n",
      "  copying _skbuild/linux-x86_64-3.10/cmake-install/llama_cpp/server/app.py -> _skbuild/linux-x86_64-3.10/setuptools/lib.linux-x86_64-cpython-310/llama_cpp/server\n",
      "  copying _skbuild/linux-x86_64-3.10/cmake-install/llama_cpp/server/__main__.py -> _skbuild/linux-x86_64-3.10/setuptools/lib.linux-x86_64-cpython-310/llama_cpp/server\n",
      "  copied 9 files\n",
      "  running build_ext\n",
      "  installing to _skbuild/linux-x86_64-3.10/setuptools/bdist.linux-x86_64/wheel\n",
      "  running install\n",
      "  running install_lib\n",
      "  creating _skbuild/linux-x86_64-3.10/setuptools/bdist.linux-x86_64\n",
      "  creating _skbuild/linux-x86_64-3.10/setuptools/bdist.linux-x86_64/wheel\n",
      "  creating _skbuild/linux-x86_64-3.10/setuptools/bdist.linux-x86_64/wheel/llama_cpp\n",
      "  copying _skbuild/linux-x86_64-3.10/setuptools/lib.linux-x86_64-cpython-310/llama_cpp/utils.py -> _skbuild/linux-x86_64-3.10/setuptools/bdist.linux-x86_64/wheel/llama_cpp\n",
      "  copying _skbuild/linux-x86_64-3.10/setuptools/lib.linux-x86_64-cpython-310/llama_cpp/llama.py -> _skbuild/linux-x86_64-3.10/setuptools/bdist.linux-x86_64/wheel/llama_cpp\n",
      "  copying _skbuild/linux-x86_64-3.10/setuptools/lib.linux-x86_64-cpython-310/llama_cpp/llama_grammar.py -> _skbuild/linux-x86_64-3.10/setuptools/bdist.linux-x86_64/wheel/llama_cpp\n",
      "  copying _skbuild/linux-x86_64-3.10/setuptools/lib.linux-x86_64-cpython-310/llama_cpp/llama_cpp.py -> _skbuild/linux-x86_64-3.10/setuptools/bdist.linux-x86_64/wheel/llama_cpp\n",
      "  copying _skbuild/linux-x86_64-3.10/setuptools/lib.linux-x86_64-cpython-310/llama_cpp/__init__.py -> _skbuild/linux-x86_64-3.10/setuptools/bdist.linux-x86_64/wheel/llama_cpp\n",
      "  copying _skbuild/linux-x86_64-3.10/setuptools/lib.linux-x86_64-cpython-310/llama_cpp/libllama.so -> _skbuild/linux-x86_64-3.10/setuptools/bdist.linux-x86_64/wheel/llama_cpp\n",
      "  copying _skbuild/linux-x86_64-3.10/setuptools/lib.linux-x86_64-cpython-310/llama_cpp/llama_types.py -> _skbuild/linux-x86_64-3.10/setuptools/bdist.linux-x86_64/wheel/llama_cpp\n",
      "  copying _skbuild/linux-x86_64-3.10/setuptools/lib.linux-x86_64-cpython-310/llama_cpp/py.typed -> _skbuild/linux-x86_64-3.10/setuptools/bdist.linux-x86_64/wheel/llama_cpp\n",
      "  creating _skbuild/linux-x86_64-3.10/setuptools/bdist.linux-x86_64/wheel/llama_cpp/server\n",
      "  copying _skbuild/linux-x86_64-3.10/setuptools/lib.linux-x86_64-cpython-310/llama_cpp/server/__init__.py -> _skbuild/linux-x86_64-3.10/setuptools/bdist.linux-x86_64/wheel/llama_cpp/server\n",
      "  copying _skbuild/linux-x86_64-3.10/setuptools/lib.linux-x86_64-cpython-310/llama_cpp/server/app.py -> _skbuild/linux-x86_64-3.10/setuptools/bdist.linux-x86_64/wheel/llama_cpp/server\n",
      "  copying _skbuild/linux-x86_64-3.10/setuptools/lib.linux-x86_64-cpython-310/llama_cpp/server/__main__.py -> _skbuild/linux-x86_64-3.10/setuptools/bdist.linux-x86_64/wheel/llama_cpp/server\n",
      "  copied 11 files\n",
      "  running install_data\n",
      "  creating _skbuild/linux-x86_64-3.10/setuptools/bdist.linux-x86_64/wheel/llama_cpp_python-0.1.78.data\n",
      "  creating _skbuild/linux-x86_64-3.10/setuptools/bdist.linux-x86_64/wheel/llama_cpp_python-0.1.78.data/data\n",
      "  creating _skbuild/linux-x86_64-3.10/setuptools/bdist.linux-x86_64/wheel/llama_cpp_python-0.1.78.data/data/lib\n",
      "  copying _skbuild/linux-x86_64-3.10/cmake-install/lib/libggml_shared.so -> _skbuild/linux-x86_64-3.10/setuptools/bdist.linux-x86_64/wheel/llama_cpp_python-0.1.78.data/data/lib\n",
      "  copying _skbuild/linux-x86_64-3.10/cmake-install/lib/libllama.so -> _skbuild/linux-x86_64-3.10/setuptools/bdist.linux-x86_64/wheel/llama_cpp_python-0.1.78.data/data/lib\n",
      "  creating _skbuild/linux-x86_64-3.10/setuptools/bdist.linux-x86_64/wheel/llama_cpp_python-0.1.78.data/data/bin\n",
      "  copying _skbuild/linux-x86_64-3.10/cmake-install/bin/convert-lora-to-ggml.py -> _skbuild/linux-x86_64-3.10/setuptools/bdist.linux-x86_64/wheel/llama_cpp_python-0.1.78.data/data/bin\n",
      "  copying _skbuild/linux-x86_64-3.10/cmake-install/bin/convert.py -> _skbuild/linux-x86_64-3.10/setuptools/bdist.linux-x86_64/wheel/llama_cpp_python-0.1.78.data/data/bin\n",
      "  running install_egg_info\n",
      "  running egg_info\n",
      "  writing llama_cpp_python.egg-info/PKG-INFO\n",
      "  writing dependency_links to llama_cpp_python.egg-info/dependency_links.txt\n",
      "  writing requirements to llama_cpp_python.egg-info/requires.txt\n",
      "  writing top-level names to llama_cpp_python.egg-info/top_level.txt\n",
      "  reading manifest file 'llama_cpp_python.egg-info/SOURCES.txt'\n",
      "  adding license file 'LICENSE.md'\n",
      "  writing manifest file 'llama_cpp_python.egg-info/SOURCES.txt'\n",
      "  Copying llama_cpp_python.egg-info to _skbuild/linux-x86_64-3.10/setuptools/bdist.linux-x86_64/wheel/llama_cpp_python-0.1.78-py3.10.egg-info\n",
      "  running install_scripts\n",
      "  copied 0 files\n",
      "  creating _skbuild/linux-x86_64-3.10/setuptools/bdist.linux-x86_64/wheel/llama_cpp_python-0.1.78.dist-info/WHEEL\n",
      "  creating '/tmp/pip-wheel-p630ya1j/.tmp-fx107iqm/llama_cpp_python-0.1.78-cp310-cp310-linux_x86_64.whl' and adding '_skbuild/linux-x86_64-3.10/setuptools/bdist.linux-x86_64/wheel' to it\n",
      "  adding 'llama_cpp/__init__.py'\n",
      "  adding 'llama_cpp/libllama.so'\n",
      "  adding 'llama_cpp/llama.py'\n",
      "  adding 'llama_cpp/llama_cpp.py'\n",
      "  adding 'llama_cpp/llama_grammar.py'\n",
      "  adding 'llama_cpp/llama_types.py'\n",
      "  adding 'llama_cpp/py.typed'\n",
      "  adding 'llama_cpp/utils.py'\n",
      "  adding 'llama_cpp/server/__init__.py'\n",
      "  adding 'llama_cpp/server/__main__.py'\n",
      "  adding 'llama_cpp/server/app.py'\n",
      "  adding 'llama_cpp_python-0.1.78.data/data/bin/convert-lora-to-ggml.py'\n",
      "  adding 'llama_cpp_python-0.1.78.data/data/bin/convert.py'\n",
      "  adding 'llama_cpp_python-0.1.78.data/data/lib/libggml_shared.so'\n",
      "  adding 'llama_cpp_python-0.1.78.data/data/lib/libllama.so'\n",
      "  adding 'llama_cpp_python-0.1.78.dist-info/LICENSE.md'\n",
      "  adding 'llama_cpp_python-0.1.78.dist-info/METADATA'\n",
      "  adding 'llama_cpp_python-0.1.78.dist-info/WHEEL'\n",
      "  adding 'llama_cpp_python-0.1.78.dist-info/top_level.txt'\n",
      "  adding 'llama_cpp_python-0.1.78.dist-info/RECORD'\n",
      "  removing _skbuild/linux-x86_64-3.10/setuptools/bdist.linux-x86_64/wheel\n",
      "  Building wheel for llama-cpp-python (pyproject.toml) ... \u001b[?25l\u001b[?25hdone\n",
      "  Created wheel for llama-cpp-python: filename=llama_cpp_python-0.1.78-cp310-cp310-linux_x86_64.whl size=5811152 sha256=0b8e5b947d4e5ba846c2464e84586ff280f75ca14bf9d622d308010783b776c6\n",
      "  Stored in directory: /tmp/pip-ephem-wheel-cache-m4hfm282/wheels/61/f9/20/9ca660a9d3f2a47e44217059409478865948b5c8a1cba70030\n",
      "Successfully built llama-cpp-python\n",
      "Installing collected packages: typing-extensions, numpy, diskcache, llama-cpp-python\n",
      "  Attempting uninstall: typing-extensions\n",
      "    Found existing installation: typing_extensions 4.10.0\n",
      "    Uninstalling typing_extensions-4.10.0:\n",
      "      Removing file or directory /usr/local/lib/python3.10/dist-packages/__pycache__/typing_extensions.cpython-310.pyc\n",
      "      Removing file or directory /usr/local/lib/python3.10/dist-packages/typing_extensions-4.10.0.dist-info/\n",
      "      Removing file or directory /usr/local/lib/python3.10/dist-packages/typing_extensions.py\n",
      "      Successfully uninstalled typing_extensions-4.10.0\n",
      "  Attempting uninstall: numpy\n",
      "    Found existing installation: numpy 1.25.2\n",
      "    Uninstalling numpy-1.25.2:\n",
      "      Removing file or directory /usr/local/bin/f2py\n",
      "      Removing file or directory /usr/local/bin/f2py3\n",
      "      Removing file or directory /usr/local/bin/f2py3.10\n",
      "      Removing file or directory /usr/local/lib/python3.10/dist-packages/numpy-1.25.2.dist-info/\n",
      "      Removing file or directory /usr/local/lib/python3.10/dist-packages/numpy.libs/\n",
      "      Removing file or directory /usr/local/lib/python3.10/dist-packages/numpy/\n",
      "      Successfully uninstalled numpy-1.25.2\n",
      "  changing mode of /usr/local/bin/f2py to 755\n",
      "\u001b[31mERROR: pip's dependency resolver does not currently take into account all the packages that are installed. This behaviour is the source of the following dependency conflicts.\n",
      "torch 2.2.1+cu121 requires nvidia-cublas-cu12==12.1.3.1; platform_system == \"Linux\" and platform_machine == \"x86_64\", which is not installed.\n",
      "torch 2.2.1+cu121 requires nvidia-cuda-cupti-cu12==12.1.105; platform_system == \"Linux\" and platform_machine == \"x86_64\", which is not installed.\n",
      "torch 2.2.1+cu121 requires nvidia-cuda-nvrtc-cu12==12.1.105; platform_system == \"Linux\" and platform_machine == \"x86_64\", which is not installed.\n",
      "torch 2.2.1+cu121 requires nvidia-cuda-runtime-cu12==12.1.105; platform_system == \"Linux\" and platform_machine == \"x86_64\", which is not installed.\n",
      "torch 2.2.1+cu121 requires nvidia-cudnn-cu12==8.9.2.26; platform_system == \"Linux\" and platform_machine == \"x86_64\", which is not installed.\n",
      "torch 2.2.1+cu121 requires nvidia-cufft-cu12==11.0.2.54; platform_system == \"Linux\" and platform_machine == \"x86_64\", which is not installed.\n",
      "torch 2.2.1+cu121 requires nvidia-curand-cu12==10.3.2.106; platform_system == \"Linux\" and platform_machine == \"x86_64\", which is not installed.\n",
      "torch 2.2.1+cu121 requires nvidia-cusolver-cu12==11.4.5.107; platform_system == \"Linux\" and platform_machine == \"x86_64\", which is not installed.\n",
      "torch 2.2.1+cu121 requires nvidia-cusparse-cu12==12.1.0.106; platform_system == \"Linux\" and platform_machine == \"x86_64\", which is not installed.\n",
      "torch 2.2.1+cu121 requires nvidia-nccl-cu12==2.19.3; platform_system == \"Linux\" and platform_machine == \"x86_64\", which is not installed.\n",
      "torch 2.2.1+cu121 requires nvidia-nvtx-cu12==12.1.105; platform_system == \"Linux\" and platform_machine == \"x86_64\", which is not installed.\u001b[0m\u001b[31m\n",
      "\u001b[0mSuccessfully installed diskcache-5.6.3 llama-cpp-python-0.1.78 numpy-1.26.4 typing-extensions-4.10.0\n"
     ]
    }
   ],
   "source": [
    "!CMAKE_ARGS=\"-DLLAMA_CUBLAS=on\" FORCE_CMAKE=1 pip install llama-cpp-python==0.1.78 --force-reinstall --upgrade --no-cache-dir --verbose"
   ]
  },
  {
   "cell_type": "code",
   "execution_count": 2,
   "metadata": {
    "colab": {
     "base_uri": "https://localhost:8080/"
    },
    "executionInfo": {
     "elapsed": 35961,
     "status": "ok",
     "timestamp": 1712047225751,
     "user": {
      "displayName": "Grgur Živković",
      "userId": "06498802482468520107"
     },
     "user_tz": -120
    },
    "id": "HxIvYUtG38Av",
    "outputId": "2813f766-c0e5-4fae-ad25-86cf81545080"
   },
   "outputs": [
    {
     "name": "stdout",
     "output_type": "stream",
     "text": [
      "\u001b[?25l     \u001b[90m━━━━━━━━━━━━━━━━━━━━━━━━━━━━━━━━━━━━━━━━\u001b[0m \u001b[32m0.0/812.8 kB\u001b[0m \u001b[31m?\u001b[0m eta \u001b[36m-:--:--\u001b[0m\r\u001b[2K     \u001b[91m━━━\u001b[0m\u001b[91m╸\u001b[0m\u001b[90m━━━━━━━━━━━━━━━━━━━━━━━━━━━━━━━━━━━━\u001b[0m \u001b[32m71.7/812.8 kB\u001b[0m \u001b[31m1.9 MB/s\u001b[0m eta \u001b[36m0:00:01\u001b[0m\r\u001b[2K     \u001b[90m━━━━━━━━━━━━━━━━━━━━━━━━━━━━━━━━━━━━━━━━\u001b[0m \u001b[32m812.8/812.8 kB\u001b[0m \u001b[31m13.3 MB/s\u001b[0m eta \u001b[36m0:00:00\u001b[0m\n",
      "\u001b[2K     \u001b[90m━━━━━━━━━━━━━━━━━━━━━━━━━━━━━━━━━━━━━━━━\u001b[0m \u001b[32m1.9/1.9 MB\u001b[0m \u001b[31m85.1 MB/s\u001b[0m eta \u001b[36m0:00:00\u001b[0m\n",
      "\u001b[2K     \u001b[90m━━━━━━━━━━━━━━━━━━━━━━━━━━━━━━━━━━━━━━━━\u001b[0m \u001b[32m3.9/3.9 MB\u001b[0m \u001b[31m71.6 MB/s\u001b[0m eta \u001b[36m0:00:00\u001b[0m\n",
      "\u001b[2K     \u001b[90m━━━━━━━━━━━━━━━━━━━━━━━━━━━━━━━━━━━━━━━━\u001b[0m \u001b[32m525.5/525.5 kB\u001b[0m \u001b[31m45.6 MB/s\u001b[0m eta \u001b[36m0:00:00\u001b[0m\n",
      "\u001b[2K     \u001b[90m━━━━━━━━━━━━━━━━━━━━━━━━━━━━━━━━━━━━━━━━\u001b[0m \u001b[32m3.9/3.9 MB\u001b[0m \u001b[31m92.2 MB/s\u001b[0m eta \u001b[36m0:00:00\u001b[0m\n",
      "\u001b[2K     \u001b[90m━━━━━━━━━━━━━━━━━━━━━━━━━━━━━━━━━━━━━━━━\u001b[0m \u001b[32m388.9/388.9 kB\u001b[0m \u001b[31m31.1 MB/s\u001b[0m eta \u001b[36m0:00:00\u001b[0m\n",
      "\u001b[2K     \u001b[90m━━━━━━━━━━━━━━━━━━━━━━━━━━━━━━━━━━━━━━━━\u001b[0m \u001b[32m279.2/279.2 kB\u001b[0m \u001b[31m32.6 MB/s\u001b[0m eta \u001b[36m0:00:00\u001b[0m\n",
      "\u001b[2K     \u001b[90m━━━━━━━━━━━━━━━━━━━━━━━━━━━━━━━━━━━━━━━━\u001b[0m \u001b[32m86.9/86.9 kB\u001b[0m \u001b[31m11.8 MB/s\u001b[0m eta \u001b[36m0:00:00\u001b[0m\n",
      "\u001b[2K     \u001b[90m━━━━━━━━━━━━━━━━━━━━━━━━━━━━━━━━━━━━━━━━\u001b[0m \u001b[32m2.4/2.4 MB\u001b[0m \u001b[31m85.1 MB/s\u001b[0m eta \u001b[36m0:00:00\u001b[0m\n",
      "\u001b[2K     \u001b[90m━━━━━━━━━━━━━━━━━━━━━━━━━━━━━━━━━━━━━━━━\u001b[0m \u001b[32m91.9/91.9 kB\u001b[0m \u001b[31m13.3 MB/s\u001b[0m eta \u001b[36m0:00:00\u001b[0m\n",
      "\u001b[2K     \u001b[90m━━━━━━━━━━━━━━━━━━━━━━━━━━━━━━━━━━━━━━━━\u001b[0m \u001b[32m60.8/60.8 kB\u001b[0m \u001b[31m6.2 MB/s\u001b[0m eta \u001b[36m0:00:00\u001b[0m\n",
      "\u001b[2K     \u001b[90m━━━━━━━━━━━━━━━━━━━━━━━━━━━━━━━━━━━━━━━━\u001b[0m \u001b[32m41.3/41.3 kB\u001b[0m \u001b[31m4.4 MB/s\u001b[0m eta \u001b[36m0:00:00\u001b[0m\n",
      "\u001b[2K     \u001b[90m━━━━━━━━━━━━━━━━━━━━━━━━━━━━━━━━━━━━━━━━\u001b[0m \u001b[32m5.4/5.4 MB\u001b[0m \u001b[31m88.2 MB/s\u001b[0m eta \u001b[36m0:00:00\u001b[0m\n",
      "\u001b[2K     \u001b[90m━━━━━━━━━━━━━━━━━━━━━━━━━━━━━━━━━━━━━━━━\u001b[0m \u001b[32m6.8/6.8 MB\u001b[0m \u001b[31m95.8 MB/s\u001b[0m eta \u001b[36m0:00:00\u001b[0m\n",
      "\u001b[2K     \u001b[90m━━━━━━━━━━━━━━━━━━━━━━━━━━━━━━━━━━━━━━━━\u001b[0m \u001b[32m60.1/60.1 kB\u001b[0m \u001b[31m8.2 MB/s\u001b[0m eta \u001b[36m0:00:00\u001b[0m\n",
      "\u001b[2K     \u001b[90m━━━━━━━━━━━━━━━━━━━━━━━━━━━━━━━━━━━━━━━━\u001b[0m \u001b[32m106.1/106.1 kB\u001b[0m \u001b[31m15.5 MB/s\u001b[0m eta \u001b[36m0:00:00\u001b[0m\n",
      "\u001b[2K     \u001b[90m━━━━━━━━━━━━━━━━━━━━━━━━━━━━━━━━━━━━━━━━\u001b[0m \u001b[32m67.3/67.3 kB\u001b[0m \u001b[31m9.3 MB/s\u001b[0m eta \u001b[36m0:00:00\u001b[0m\n",
      "\u001b[?25h  Installing build dependencies ... \u001b[?25l\u001b[?25hdone\n",
      "  Getting requirements to build wheel ... \u001b[?25l\u001b[?25hdone\n",
      "  Preparing metadata (pyproject.toml) ... \u001b[?25l\u001b[?25hdone\n",
      "\u001b[2K     \u001b[90m━━━━━━━━━━━━━━━━━━━━━━━━━━━━━━━━━━━━━━━━\u001b[0m \u001b[32m698.9/698.9 kB\u001b[0m \u001b[31m60.3 MB/s\u001b[0m eta \u001b[36m0:00:00\u001b[0m\n",
      "\u001b[2K     \u001b[90m━━━━━━━━━━━━━━━━━━━━━━━━━━━━━━━━━━━━━━━━\u001b[0m \u001b[32m1.6/1.6 MB\u001b[0m \u001b[31m86.5 MB/s\u001b[0m eta \u001b[36m0:00:00\u001b[0m\n",
      "\u001b[2K     \u001b[90m━━━━━━━━━━━━━━━━━━━━━━━━━━━━━━━━━━━━━━━━\u001b[0m \u001b[32m67.6/67.6 kB\u001b[0m \u001b[31m9.6 MB/s\u001b[0m eta \u001b[36m0:00:00\u001b[0m\n",
      "\u001b[2K     \u001b[90m━━━━━━━━━━━━━━━━━━━━━━━━━━━━━━━━━━━━━━━━\u001b[0m \u001b[32m144.8/144.8 kB\u001b[0m \u001b[31m21.2 MB/s\u001b[0m eta \u001b[36m0:00:00\u001b[0m\n",
      "\u001b[2K     \u001b[90m━━━━━━━━━━━━━━━━━━━━━━━━━━━━━━━━━━━━━━━━\u001b[0m \u001b[32m30.8/30.8 MB\u001b[0m \u001b[31m51.4 MB/s\u001b[0m eta \u001b[36m0:00:00\u001b[0m\n",
      "\u001b[2K     \u001b[90m━━━━━━━━━━━━━━━━━━━━━━━━━━━━━━━━━━━━━━━━\u001b[0m \u001b[32m49.4/49.4 kB\u001b[0m \u001b[31m6.9 MB/s\u001b[0m eta \u001b[36m0:00:00\u001b[0m\n",
      "\u001b[2K     \u001b[90m━━━━━━━━━━━━━━━━━━━━━━━━━━━━━━━━━━━━━━━━\u001b[0m \u001b[32m71.9/71.9 kB\u001b[0m \u001b[31m10.2 MB/s\u001b[0m eta \u001b[36m0:00:00\u001b[0m\n",
      "\u001b[2K     \u001b[90m━━━━━━━━━━━━━━━━━━━━━━━━━━━━━━━━━━━━━━━━\u001b[0m \u001b[32m53.0/53.0 kB\u001b[0m \u001b[31m7.6 MB/s\u001b[0m eta \u001b[36m0:00:00\u001b[0m\n",
      "\u001b[2K     \u001b[90m━━━━━━━━━━━━━━━━━━━━━━━━━━━━━━━━━━━━━━━━\u001b[0m \u001b[32m46.0/46.0 kB\u001b[0m \u001b[31m6.3 MB/s\u001b[0m eta \u001b[36m0:00:00\u001b[0m\n",
      "\u001b[2K     \u001b[90m━━━━━━━━━━━━━━━━━━━━━━━━━━━━━━━━━━━━━━━━\u001b[0m \u001b[32m50.8/50.8 kB\u001b[0m \u001b[31m7.5 MB/s\u001b[0m eta \u001b[36m0:00:00\u001b[0m\n",
      "\u001b[2K     \u001b[90m━━━━━━━━━━━━━━━━━━━━━━━━━━━━━━━━━━━━━━━━\u001b[0m \u001b[32m58.3/58.3 kB\u001b[0m \u001b[31m8.3 MB/s\u001b[0m eta \u001b[36m0:00:00\u001b[0m\n",
      "\u001b[2K     \u001b[90m━━━━━━━━━━━━━━━━━━━━━━━━━━━━━━━━━━━━━━━━\u001b[0m \u001b[32m341.4/341.4 kB\u001b[0m \u001b[31m35.2 MB/s\u001b[0m eta \u001b[36m0:00:00\u001b[0m\n",
      "\u001b[2K     \u001b[90m━━━━━━━━━━━━━━━━━━━━━━━━━━━━━━━━━━━━━━━━\u001b[0m \u001b[32m3.4/3.4 MB\u001b[0m \u001b[31m64.5 MB/s\u001b[0m eta \u001b[36m0:00:00\u001b[0m\n",
      "\u001b[2K     \u001b[90m━━━━━━━━━━━━━━━━━━━━━━━━━━━━━━━━━━━━━━━━\u001b[0m \u001b[32m1.3/1.3 MB\u001b[0m \u001b[31m59.7 MB/s\u001b[0m eta \u001b[36m0:00:00\u001b[0m\n",
      "\u001b[2K     \u001b[90m━━━━━━━━━━━━━━━━━━━━━━━━━━━━━━━━━━━━━━━━\u001b[0m \u001b[32m130.2/130.2 kB\u001b[0m \u001b[31m15.6 MB/s\u001b[0m eta \u001b[36m0:00:00\u001b[0m\n",
      "\u001b[2K     \u001b[90m━━━━━━━━━━━━━━━━━━━━━━━━━━━━━━━━━━━━━━━━\u001b[0m \u001b[32m86.8/86.8 kB\u001b[0m \u001b[31m10.1 MB/s\u001b[0m eta \u001b[36m0:00:00\u001b[0m\n",
      "\u001b[?25h  Building wheel for pypika (pyproject.toml) ... \u001b[?25l\u001b[?25hdone\n"
     ]
    }
   ],
   "source": [
    "!pip install -qU  langchain langchain-community langchainhub gpt4all chromadb pymupdf huggingface_hub"
   ]
  },
  {
   "cell_type": "markdown",
   "metadata": {
    "id": "H8-TznNOTRco"
   },
   "source": [
    "\n",
    "\n",
    "1.   Langchain -> Framework used for building RAG workflows.\n",
    "2.   GPT4All -> A library used for the local embedder. (An embedder helps   convert text into a numerical representation for the model to understand.)\n",
    "3.   ChromaDB -> A vector database used to store and retrieve information efficiently.\n",
    "4.   PyMuPDF -> A python module used for working with PDF documents.\n",
    "\n"
   ]
  },
  {
   "cell_type": "code",
   "execution_count": 7,
   "metadata": {
    "executionInfo": {
     "elapsed": 5,
     "status": "ok",
     "timestamp": 1712047332437,
     "user": {
      "displayName": "Grgur Živković",
      "userId": "06498802482468520107"
     },
     "user_tz": -120
    },
    "id": "oGV0QQQf38Aw"
   },
   "outputs": [],
   "source": [
    "# IMPORTS\n",
    "\n",
    "# For PDF handling\n",
    "import fitz\n",
    "\n",
    "import os\n",
    "from uuid import uuid4\n",
    "from operator import itemgetter\n",
    "import re # ReGex\n",
    "import numpy as np\n",
    "\n",
    "# LangChain docs: (https://python.langchain.com/docs/get_started/introduction)\n",
    "from langchain import hub\n",
    "from langchain.text_splitter import RecursiveCharacterTextSplitter\n",
    "from langchain_community.document_loaders import WebBaseLoader\n",
    "from langchain_community.vectorstores import Chroma\n",
    "from langchain_core.output_parsers import StrOutputParser\n",
    "from langchain_core.runnables import RunnablePassthrough\n",
    "from langchain_community.embeddings import GPT4AllEmbeddings\n",
    "from langchain_community.llms import GPT4All, LlamaCpp\n",
    "from langchain_community.document_loaders import PyMuPDFLoader, DirectoryLoader\n",
    "from langchain.prompts import PromptTemplate\n",
    "from langchain.schema import AIMessage, HumanMessage, SystemMessage\n",
    "from langchain_core.prompts import ChatPromptTemplate\n",
    "from langchain.callbacks.manager import CallbackManager\n",
    "from langchain.callbacks.streaming_stdout import StreamingStdOutCallbackHandler\n",
    "\n",
    "from huggingface_hub import hf_hub_download"
   ]
  },
  {
   "cell_type": "markdown",
   "metadata": {
    "id": "0Gbf9m0338Ax"
   },
   "source": [
    "### 2. LLM USED FOR INFERENCE"
   ]
  },
  {
   "cell_type": "markdown",
   "metadata": {
    "id": "37215vhAYfKX"
   },
   "source": [
    "A quantized Llama-2 model from Huggingface is used:\n",
    "(https://huggingface.co/TheBloke/Llama-2-13B-chat-GGML).\n",
    "\n",
    "\n",
    "> Why quantized? The original model has 70 bilion parameters, so I went with the quantized version for better performance.\n",
    "\n",
    "\n",
    "> This means I'm using a version of the model that has been optimized down to 13 billion parameters.\n",
    "\n",
    "\n"
   ]
  },
  {
   "cell_type": "code",
   "execution_count": 4,
   "metadata": {
    "executionInfo": {
     "elapsed": 412,
     "status": "ok",
     "timestamp": 1712047244907,
     "user": {
      "displayName": "Grgur Živković",
      "userId": "06498802482468520107"
     },
     "user_tz": -120
    },
    "id": "Yga6Mmii9kGt"
   },
   "outputs": [],
   "source": [
    "model_name_or_path = \"TheBloke/Llama-2-13B-chat-GGML\"\n",
    "model_basename = \"llama-2-13b-chat.ggmlv3.q5_1.bin\" # the model is in bin format"
   ]
  },
  {
   "cell_type": "markdown",
   "metadata": {
    "id": "10496PVJ_D-5"
   },
   "source": [
    "Downloading the model from Huggingface:"
   ]
  },
  {
   "cell_type": "code",
   "execution_count": null,
   "metadata": {
    "colab": {
     "base_uri": "https://localhost:8080/",
     "height": 179,
     "referenced_widgets": [
      "c4c5d8ce6bc6465ebee973628fbf5850",
      "b2736a11ac4c4b5ca99d5e3a30a4c1da",
      "5ea57de468fc48ce81ba4dbbd1d06cd4",
      "1a6cabfec77b45da81518d7f56d755e5",
      "42d2a260b300448a90ed5fc0001b5828",
      "b508d81395f547368d05df021b0d8859",
      "6ba2c014b3c640cc92e7c5b933022bdf",
      "bf9eff5debbd4dffb82454a978fb3720",
      "f2b98e8699404439815d35fa94ecbab3",
      "b40e26966ba64938adf175ec71f15e49",
      "9d7373182cc5448c8fddbff3f3c571f9"
     ]
    },
    "executionInfo": {
     "elapsed": 76352,
     "status": "ok",
     "timestamp": 1712047322757,
     "user": {
      "displayName": "Grgur Živković",
      "userId": "06498802482468520107"
     },
     "user_tz": -120
    },
    "id": "hr6-PTfk9ppw",
    "outputId": "e9ace1c9-1137-4339-8da1-e34b14354da4"
   },
   "outputs": [],
   "source": [
    "model_path = hf_hub_download(repo_id=model_name_or_path, filename=model_basename)"
   ]
  },
  {
   "cell_type": "markdown",
   "metadata": {
    "id": "EzoAJVuu-OUs"
   },
   "source": [
    "For streaming:"
   ]
  },
  {
   "cell_type": "code",
   "execution_count": 8,
   "metadata": {
    "executionInfo": {
     "elapsed": 7,
     "status": "ok",
     "timestamp": 1712047336337,
     "user": {
      "displayName": "Grgur Živković",
      "userId": "06498802482468520107"
     },
     "user_tz": -120
    },
    "id": "aJFN_1bM9x7W"
   },
   "outputs": [],
   "source": [
    "# Callbacks support token-wise streaming\n",
    "callback_manager = CallbackManager([StreamingStdOutCallbackHandler()])\n",
    "# Verbose is required to pass to the callback manager"
   ]
  },
  {
   "cell_type": "code",
   "execution_count": 9,
   "metadata": {
    "colab": {
     "base_uri": "https://localhost:8080/"
    },
    "executionInfo": {
     "elapsed": 44307,
     "status": "ok",
     "timestamp": 1712047389495,
     "user": {
      "displayName": "Grgur Živković",
      "userId": "06498802482468520107"
     },
     "user_tz": -120
    },
    "id": "bi729oyG38Ay",
    "outputId": "d4b171a9-3a2c-46b5-9be5-ddcb41053aba"
   },
   "outputs": [
    {
     "name": "stderr",
     "output_type": "stream",
     "text": [
      "AVX = 1 | AVX2 = 1 | AVX512 = 0 | AVX512_VBMI = 0 | AVX512_VNNI = 0 | FMA = 1 | NEON = 0 | ARM_FMA = 0 | F16C = 1 | FP16_VA = 0 | WASM_SIMD = 0 | BLAS = 1 | SSE3 = 1 | VSX = 0 | \n"
     ]
    }
   ],
   "source": [
    "n_gpu_layers = 40  # Change this value based on your model and your GPU VRAM pool.\n",
    "n_batch = 512  # Should be between 1 and n_ctx, consider the amount of VRAM in your GPU.\n",
    "\n",
    "# Loading model,\n",
    "llm = LlamaCpp(\n",
    "    model_path=model_path,\n",
    "    max_tokens=1024,\n",
    "    n_gpu_layers=n_gpu_layers,\n",
    "    n_batch=n_batch,\n",
    "    callback_manager=callback_manager,\n",
    "    verbose=True,\n",
    "    n_ctx=4096, # Context window\n",
    "    stop = ['USER:'], # Dynamic stopping when such token is detected.\n",
    "    temperature = 0.4,\n",
    ")"
   ]
  },
  {
   "cell_type": "markdown",
   "metadata": {
    "id": "tA527kDE38Az"
   },
   "source": [
    "### 3. DATA LOADING"
   ]
  },
  {
   "cell_type": "markdown",
   "metadata": {
    "id": "DAWx1um9aHle"
   },
   "source": [
    "In order to load the PDF document make sure to place it in the right relative path:"
   ]
  },
  {
   "cell_type": "code",
   "execution_count": 12,
   "metadata": {
    "executionInfo": {
     "elapsed": 580,
     "status": "ok",
     "timestamp": 1712048003514,
     "user": {
      "displayName": "Grgur Živković",
      "userId": "06498802482468520107"
     },
     "user_tz": -120
    },
    "id": "JYqSl2wD38A0"
   },
   "outputs": [],
   "source": [
    "# PyMuPDF Loader:\n",
    "loader = PyMuPDFLoader(r\"Intro_To_Machine_Learning(234_pages).pdf\")"
   ]
  },
  {
   "cell_type": "code",
   "execution_count": 13,
   "metadata": {
    "colab": {
     "base_uri": "https://localhost:8080/"
    },
    "executionInfo": {
     "elapsed": 567,
     "status": "ok",
     "timestamp": 1712048005969,
     "user": {
      "displayName": "Grgur Živković",
      "userId": "06498802482468520107"
     },
     "user_tz": -120
    },
    "id": "WXI7OYLstVn9",
    "outputId": "686d3c76-a47f-4d91-a16c-32b81fbcbde5"
   },
   "outputs": [
    {
     "name": "stdout",
     "output_type": "stream",
     "text": [
      "Number of PDF document pages: 234\n"
     ]
    }
   ],
   "source": [
    "docs = loader.load()\n",
    "print(f\"Number of PDF document pages: {len(docs)}\")"
   ]
  },
  {
   "cell_type": "code",
   "execution_count": 14,
   "metadata": {
    "colab": {
     "base_uri": "https://localhost:8080/"
    },
    "executionInfo": {
     "elapsed": 440,
     "status": "ok",
     "timestamp": 1712048012177,
     "user": {
      "displayName": "Grgur Živković",
      "userId": "06498802482468520107"
     },
     "user_tz": -120
    },
    "id": "pkWZkH9ka6XN",
    "outputId": "f0e1157b-c593-4779-ebac-128e1f57e0af"
   },
   "outputs": [
    {
     "name": "stdout",
     "output_type": "stream",
     "text": [
      "Content of 112. page: \n",
      " page_content='104\\n3 Optimization\\nwrite for any w′ ∈(at, bt)\\nJ(w′) −J(w∗) ≤(w′ −w∗) · J′(w′) ≤(bt −at) · J′(U).\\n(3.37)\\nSince we halve the interval (at, bt) at every iteration, it follows that (bt−at) =\\n(U −L)/2t. Therefore\\nJ(w′) −J(w∗) ≤(U −L) · J′(U)\\n2t\\n,\\n(3.38)\\nfor all w′ ∈(at, bt). In other words, to ﬁnd an ϵ-accurate solution, that is,\\nJ(w′) −J(w∗) ≤ϵ we only need log(U −L) + log J′(U) + log(1/ϵ) < t itera-\\ntions. An algorithm which converges to an ϵ accurate solution in O(log(1/ϵ))\\niterations is said to be linearly convergent.\\nFor multi-dimensional objective functions, one cannot rely on the mono-\\ntonicity property of the gradient. Therefore, one needs more sophisticated\\noptimization algorithms, some of which we now describe.\\n3.2.2 Coordinate Descent\\nCoordinate descent is conceptually the simplest algorithm for minimizing a\\nmultidimensional smooth convex function J : Rn →R. At every iteration\\nselect a coordinate, say i, and update\\nwt+1 = wt −ηtei.\\n(3.39)\\nHere ei denotes the i-th basis vector, that is, a vector with one at the i-th co-\\nordinate and zeros everywhere else, while ηt ∈R is a non-negative scalar step\\nsize. One could, for instance, minimize the one dimensional convex function\\nJ(wt −ηei) to obtain the stepsize ηt. The coordinates can either be selected\\ncyclically, that is, 1, 2, . . . , n, 1, 2, . . . or greedily, that is, the coordinate which\\nyields the maximum reduction in function value.\\nEven though coordinate descent can be shown to converge if J has a Lip-\\nschitz continuous gradient [LT92], in practice it can be quite slow. However,\\nif a high precision solution is not required, as is the case in some machine\\nlearning applications, coordinate descent is often used because a) the cost\\nper iteration is very low and b) the speed of convergence may be acceptable\\nespecially if the variables are loosely coupled.\\n3.2.3 Gradient Descent\\nGradient descent (also widely known as steepest descent) is an optimization\\ntechnique for minimizing multidimensional smooth convex objective func-\\ntions of the form J : Rn →R. The basic idea is as follows: Given a location\\n' metadata={'source': 'Intro_To_Machine_Learning(234_pages).pdf', 'file_path': 'Intro_To_Machine_Learning(234_pages).pdf', 'page': 111, 'total_pages': 234, 'format': 'PDF 1.4', 'title': 'AnIntroductiontoMachineLearning', 'author': 'AlexJ.SmolaandVishyS.V.N.Vishwanathan', 'subject': '', 'keywords': '', 'creator': 'LaTeX with hyperref package', 'producer': 'pdfTeX-1.40.10', 'creationDate': \"D:20101001154705-07'00'\", 'modDate': \"D:20101001154705-07'00'\", 'trapped': ''}\n"
     ]
    }
   ],
   "source": [
    "print(f\"Content of 112. page: \\n {docs[111]}\") # 0 based indexing"
   ]
  },
  {
   "cell_type": "markdown",
   "metadata": {
    "id": "POK0J558dSOB"
   },
   "source": [
    "Each item in the '**docs**' represents a seperate page of the PDF document. These items include the page's text content '**page_content**', and an additional dictionary called '**metadata**'."
   ]
  },
  {
   "cell_type": "code",
   "execution_count": 15,
   "metadata": {
    "colab": {
     "base_uri": "https://localhost:8080/"
    },
    "executionInfo": {
     "elapsed": 622,
     "status": "ok",
     "timestamp": 1712048111160,
     "user": {
      "displayName": "Grgur Živković",
      "userId": "06498802482468520107"
     },
     "user_tz": -120
    },
    "id": "w73PpQ8WeYgo",
    "outputId": "ff9c5163-282f-4379-f7b8-b9bb2d8f1433"
   },
   "outputs": [
    {
     "data": {
      "text/plain": [
       "{'source': 'Intro_To_Machine_Learning(234_pages).pdf',\n",
       " 'file_path': 'Intro_To_Machine_Learning(234_pages).pdf',\n",
       " 'page': 111,\n",
       " 'total_pages': 234,\n",
       " 'format': 'PDF 1.4',\n",
       " 'title': 'AnIntroductiontoMachineLearning',\n",
       " 'author': 'AlexJ.SmolaandVishyS.V.N.Vishwanathan',\n",
       " 'subject': '',\n",
       " 'keywords': '',\n",
       " 'creator': 'LaTeX with hyperref package',\n",
       " 'producer': 'pdfTeX-1.40.10',\n",
       " 'creationDate': \"D:20101001154705-07'00'\",\n",
       " 'modDate': \"D:20101001154705-07'00'\",\n",
       " 'trapped': ''}"
      ]
     },
     "execution_count": 15,
     "metadata": {},
     "output_type": "execute_result"
    }
   ],
   "source": [
    "docs[111].metadata"
   ]
  },
  {
   "cell_type": "markdown",
   "metadata": {
    "id": "R2jP5bCu38A1"
   },
   "source": [
    "### 4. TEXT SPLITTING"
   ]
  },
  {
   "cell_type": "markdown",
   "metadata": {
    "id": "iddcFvSYbRrx"
   },
   "source": [
    "\n",
    "The content of the pages needs to be further divided for better retrieval. There are various methods for splitting text, and here the 'RecursiveCharacterTextSplitter' is used. (https://api.python.langchain.com/en/latest/text_splitter/langchain.text_splitter.RecursiveCharacterTextSplitter.html#)\n",
    "\n",
    "This method recursively splits the text into a set of predefined symbols so that the resulting separated texts (hereinafter 'documents') have a size of 'chunk_size'. In order to preserve the semantic information of each resulting document, the 'chunk_overlap' parameter is set, which represents the number of symbols that overlap with the content of the adjacent document.\n",
    "\n",
    "\n",
    ">Excellent visualization of the impact of these parameters:: (https://chunkviz.up.railway.app/#explanation)\n",
    "\n"
   ]
  },
  {
   "cell_type": "code",
   "execution_count": 16,
   "metadata": {
    "executionInfo": {
     "elapsed": 448,
     "status": "ok",
     "timestamp": 1712048120357,
     "user": {
      "displayName": "Grgur Živković",
      "userId": "06498802482468520107"
     },
     "user_tz": -120
    },
    "id": "QsVyfQ9XRh-t"
   },
   "outputs": [],
   "source": [
    "# Text Splitting function\n",
    "def make_document_splits(splitter_method, docs):\n",
    "  text_splitter = splitter_method(chunk_size=1000, chunk_overlap=200) # This is dumb but keep for now\n",
    "  splits = text_splitter.split_documents(docs)\n",
    "  return splits"
   ]
  },
  {
   "cell_type": "code",
   "execution_count": 17,
   "metadata": {
    "colab": {
     "base_uri": "https://localhost:8080/"
    },
    "executionInfo": {
     "elapsed": 496,
     "status": "ok",
     "timestamp": 1712048122422,
     "user": {
      "displayName": "Grgur Živković",
      "userId": "06498802482468520107"
     },
     "user_tz": -120
    },
    "id": "ZXK99-K438A1",
    "outputId": "3e09f450-8c81-49d2-847c-75b513d9a86b"
   },
   "outputs": [
    {
     "name": "stdout",
     "output_type": "stream",
     "text": [
      "Number of document splits: 561\n"
     ]
    }
   ],
   "source": [
    "splits = make_document_splits(RecursiveCharacterTextSplitter, docs)\n",
    "print(f\"Number of document splits: {len(splits)}\")"
   ]
  },
  {
   "cell_type": "code",
   "execution_count": 18,
   "metadata": {
    "colab": {
     "base_uri": "https://localhost:8080/"
    },
    "executionInfo": {
     "elapsed": 8,
     "status": "ok",
     "timestamp": 1712048125562,
     "user": {
      "displayName": "Grgur Živković",
      "userId": "06498802482468520107"
     },
     "user_tz": -120
    },
    "id": "oG8UxQuDg75s",
    "outputId": "9596ead0-9f44-4237-f152-b7dfe3168f93"
   },
   "outputs": [
    {
     "data": {
      "text/plain": [
       "Document(page_content='\"X\\ni\\nxi\\n#\\n=\\nX\\ni\\nEXi[xi] and VarX1,...XN\\n\"X\\ni\\nxi\\n#\\n=\\nX\\ni\\nVarXi[xi]\\nTo show the second equality assume independence of the Xi.\\nProblem 1.6 (Two Dices) Assume you have a game which uses the max-\\nimum of two dices. Compute the probability of seeing any of the events\\n{1, . . . , 6}. Hint: prove ﬁrst that the cumulative distribution function of the\\nmaximum of a pair of random variables is the square of the original cumu-\\nlative distribution function.\\nProblem 1.7 (Matching Coins) Consider the following game: two play-\\ners bring a coin each. the ﬁrst player bets that when tossing the coins both\\nwill match and the second one bets that they will not match. Show that even\\nif one of the players were to bring a tainted coin, the game still would be\\nfair. Show that it is in the interest of each player to bring a fair coin to the\\ngame. Hint: assume that the second player knows that the ﬁrst coin favors\\nheads over tails.\\nProblem 1.8 (Randomized Maximization) How many observations do', metadata={'source': 'Intro_To_Machine_Learning(234_pages).pdf', 'file_path': 'Intro_To_Machine_Learning(234_pages).pdf', 'page': 42, 'total_pages': 234, 'format': 'PDF 1.4', 'title': 'AnIntroductiontoMachineLearning', 'author': 'AlexJ.SmolaandVishyS.V.N.Vishwanathan', 'subject': '', 'keywords': '', 'creator': 'LaTeX with hyperref package', 'producer': 'pdfTeX-1.40.10', 'creationDate': \"D:20101001154705-07'00'\", 'modDate': \"D:20101001154705-07'00'\", 'trapped': ''})"
      ]
     },
     "execution_count": 18,
     "metadata": {},
     "output_type": "execute_result"
    }
   ],
   "source": [
    "splits[111]"
   ]
  },
  {
   "cell_type": "code",
   "execution_count": 19,
   "metadata": {
    "colab": {
     "base_uri": "https://localhost:8080/"
    },
    "executionInfo": {
     "elapsed": 403,
     "status": "ok",
     "timestamp": 1712048128956,
     "user": {
      "displayName": "Grgur Živković",
      "userId": "06498802482468520107"
     },
     "user_tz": -120
    },
    "id": "VP_oC4aMhies",
    "outputId": "c6c1fb0d-71a1-432e-98ff-a75d6b3f27c0"
   },
   "outputs": [
    {
     "data": {
      "text/plain": [
       "42"
      ]
     },
     "execution_count": 19,
     "metadata": {},
     "output_type": "execute_result"
    }
   ],
   "source": [
    "splits[111].metadata[\"page\"]"
   ]
  },
  {
   "cell_type": "markdown",
   "metadata": {
    "id": "Rsq1QUT2hPS-"
   },
   "source": [
    "Now, the 111th document contains a part of the text from the 43rd page. (Again, using 0-based indexing!)"
   ]
  },
  {
   "cell_type": "markdown",
   "metadata": {
    "id": "6owK0vfk38A1"
   },
   "source": [
    "### 5. VECTOR DATABASE + RETRIEVAL"
   ]
  },
  {
   "cell_type": "markdown",
   "metadata": {
    "id": "Nbzw7S-fiAT-"
   },
   "source": [
    "\n",
    "To obtain relevant data related to the given query using the Language Model (LLM), it is necessary to vectorize both the query and existing documents and store them in a vector database. By comparing the query vector with all other document vectors, a satisfactory measure of similarity is sought. There are several ways to calculate similarity between two vectors. Here, 'similarity_search' is used, which is based on the angle between two vectors. The smaller the angle, the more similar the vectors are."
   ]
  },
  {
   "cell_type": "code",
   "execution_count": 35,
   "metadata": {
    "executionInfo": {
     "elapsed": 431,
     "status": "ok",
     "timestamp": 1712049475291,
     "user": {
      "displayName": "Grgur Živković",
      "userId": "06498802482468520107"
     },
     "user_tz": -120
    },
    "id": "NUN2p6mf8sKX"
   },
   "outputs": [],
   "source": [
    "# The embedder -> GPT4All in this case\n",
    "embedder = GPT4AllEmbeddings()"
   ]
  },
  {
   "cell_type": "markdown",
   "metadata": {
    "id": "yxeLfq0d3A7B"
   },
   "source": [
    "\n",
    "The documents are vectorized and saved into a local instance of a vector database (ChromaDB)."
   ]
  },
  {
   "cell_type": "code",
   "execution_count": 64,
   "metadata": {
    "executionInfo": {
     "elapsed": 200527,
     "status": "ok",
     "timestamp": 1712051084551,
     "user": {
      "displayName": "Grgur Živković",
      "userId": "06498802482468520107"
     },
     "user_tz": -120
    },
    "id": "MBJ3ibSl38A2"
   },
   "outputs": [],
   "source": [
    "vectorstore = Chroma.from_documents(documents=splits, embedding=embedder)"
   ]
  },
  {
   "cell_type": "markdown",
   "metadata": {
    "id": "eRc4GLQ03CV3"
   },
   "source": [
    "A 'retriever' is defined to perform the task of retrieving documents from the vector database based on the query that is later passed to it."
   ]
  },
  {
   "cell_type": "code",
   "execution_count": 69,
   "metadata": {
    "executionInfo": {
     "elapsed": 421,
     "status": "ok",
     "timestamp": 1712051207656,
     "user": {
      "displayName": "Grgur Živković",
      "userId": "06498802482468520107"
     },
     "user_tz": -120
    },
    "id": "IaTClhqM1H3-"
   },
   "outputs": [],
   "source": [
    "retriever = vectorstore.as_retriever(search_kwargs={\"k\": 4}) # This is similarity_search() by default, number of documents returned k=4 by defalt"
   ]
  },
  {
   "cell_type": "code",
   "execution_count": 70,
   "metadata": {
    "colab": {
     "base_uri": "https://localhost:8080/"
    },
    "executionInfo": {
     "elapsed": 7,
     "status": "ok",
     "timestamp": 1712051209583,
     "user": {
      "displayName": "Grgur Živković",
      "userId": "06498802482468520107"
     },
     "user_tz": -120
    },
    "id": "LvXGbL88qeyn",
    "outputId": "5c77bfe2-f624-481f-c9f4-184ebc39ec94"
   },
   "outputs": [
    {
     "name": "stdout",
     "output_type": "stream",
     "text": [
      "The page numbers of retrieved documents: [111, 111, 98, 98]\n"
     ]
    }
   ],
   "source": [
    "retr_docs = retriever.invoke(\"What is gradient descent?\")\n",
    "print(f\"The page numbers of retrieved documents: {[doc.metadata['page'] for doc in retr_docs]}\")"
   ]
  },
  {
   "cell_type": "markdown",
   "metadata": {
    "id": "o3lvoAAh38A2"
   },
   "source": [
    "### 6. PROMPTS"
   ]
  },
  {
   "cell_type": "markdown",
   "metadata": {
    "id": "bdIq6cvV4tzz"
   },
   "source": [
    "The query is the text that is passed to the LLM for inference. For a high-quality response from the LLM, it is necessary to formulate a high-quality query. LLMs are pretrained with certain patterns (styles) of queries, so recommended query patterns can often be found in model information. For simplicity, a simple and popular pattern taken from the langchain hub is used here."
   ]
  },
  {
   "cell_type": "code",
   "execution_count": 71,
   "metadata": {
    "executionInfo": {
     "elapsed": 3586,
     "status": "ok",
     "timestamp": 1712051223238,
     "user": {
      "displayName": "Grgur Živković",
      "userId": "06498802482468520107"
     },
     "user_tz": -120
    },
    "id": "2cPqdU4838A3"
   },
   "outputs": [],
   "source": [
    "prompt = hub.pull(\"rlm/rag-prompt\")"
   ]
  },
  {
   "cell_type": "code",
   "execution_count": 72,
   "metadata": {
    "colab": {
     "base_uri": "https://localhost:8080/"
    },
    "executionInfo": {
     "elapsed": 4,
     "status": "ok",
     "timestamp": 1712051223239,
     "user": {
      "displayName": "Grgur Živković",
      "userId": "06498802482468520107"
     },
     "user_tz": -120
    },
    "id": "arYOz8Nr38A3",
    "outputId": "3d96b213-c589-40e3-b3ef-d149b4e0c52d"
   },
   "outputs": [
    {
     "name": "stdout",
     "output_type": "stream",
     "text": [
      "================================\u001b[1m Human Message \u001b[0m=================================\n",
      "\n",
      "You are an assistant for question-answering tasks. Use the following pieces of retrieved context to answer the question. If you don't know the answer, just say that you don't know. Use three sentences maximum and keep the answer concise.\n",
      "Question: \u001b[33;1m\u001b[1;3m{question}\u001b[0m \n",
      "Context: \u001b[33;1m\u001b[1;3m{context}\u001b[0m \n",
      "Answer:\n"
     ]
    }
   ],
   "source": [
    "prompt.pretty_print()"
   ]
  },
  {
   "cell_type": "markdown",
   "metadata": {
    "id": "P-PDh9rI6VvP"
   },
   "source": [
    "It can be seen that in addition to hard-coded text, there are also variables dynamically passed to the query. In this case, the variable 'question' represents the posed question, and the variable 'context' represents the content of the retrieved documents most similar to that question. All of this is sent as a complete query to the LLM, which should then provide a coherent response."
   ]
  },
  {
   "cell_type": "markdown",
   "metadata": {
    "id": "fshP7MVH7Guw"
   },
   "source": [
    "The following is an example of a custom prompt:"
   ]
  },
  {
   "cell_type": "code",
   "execution_count": 73,
   "metadata": {
    "executionInfo": {
     "elapsed": 505,
     "status": "ok",
     "timestamp": 1712051234848,
     "user": {
      "displayName": "Grgur Živković",
      "userId": "06498802482468520107"
     },
     "user_tz": -120
    },
    "id": "O8aMuHaU38A3"
   },
   "outputs": [],
   "source": [
    "template = \"\"\"You are a helpful instructor who knows that students need precise\n",
    "and terse feedback, along with clear explanations.Provide the student with neccessary\n",
    "corrections and suggestions about potential improvements of their answer based on\n",
    "the given context. Stick to your task, avoid pleasantries. If the provided context\n",
    "isn't informative enough to provide feedback, say you are not sure or that you don't know.\n",
    "\n",
    "Based on the following context of the study material:\n",
    "\n",
    "Context: {context}\n",
    "\n",
    "the student has been given a question:\n",
    "\n",
    "Question: {question}\n",
    "\n",
    "and this is the student answer:\n",
    "\n",
    "Student Answer: {answer}\n",
    "\n",
    "Feedback:\n",
    "\"\"\"\n",
    "custom_prompt_feedback = PromptTemplate.from_template(template)"
   ]
  },
  {
   "cell_type": "code",
   "execution_count": 74,
   "metadata": {
    "colab": {
     "base_uri": "https://localhost:8080/"
    },
    "executionInfo": {
     "elapsed": 5,
     "status": "ok",
     "timestamp": 1712051236935,
     "user": {
      "displayName": "Grgur Živković",
      "userId": "06498802482468520107"
     },
     "user_tz": -120
    },
    "id": "D3UrZ4tcM8Uc",
    "outputId": "37bba4d4-7ff4-4171-d864-28e81a358de7"
   },
   "outputs": [
    {
     "name": "stdout",
     "output_type": "stream",
     "text": [
      "You are a helpful instructor who knows that students need precise\n",
      "and terse feedback, along with clear explanations.Provide the student with neccessary\n",
      "corrections and suggestions about potential improvements of their answer based on\n",
      "the given context. Stick to your task, avoid pleasantries. If the provided context\n",
      "isn't informative enough to provide feedback, say you are not sure or that you don't know.\n",
      "\n",
      "Based on the following context of the study material:\n",
      "\n",
      "Context: \u001b[33;1m\u001b[1;3m{context}\u001b[0m\n",
      "\n",
      "the student has been given a question:\n",
      "\n",
      "Question: \u001b[33;1m\u001b[1;3m{question}\u001b[0m\n",
      "\n",
      "and this is the student answer:\n",
      "\n",
      "Student Answer: \u001b[33;1m\u001b[1;3m{answer}\u001b[0m\n",
      "\n",
      "Feedback:\n",
      "\n"
     ]
    }
   ],
   "source": [
    "custom_prompt_feedback.pretty_print()"
   ]
  },
  {
   "cell_type": "markdown",
   "metadata": {
    "id": "tYsuVPzH38A3"
   },
   "source": [
    "### 7. LANGCHAIN\n"
   ]
  },
  {
   "cell_type": "markdown",
   "metadata": {
    "id": "lOIn_OYq8D7v"
   },
   "source": [
    "The essence of Langchain as a framework is chaining individual elements in a simple manner. At each intersection of the chain, it is easy to access the output value of the last element of the newly formed chain. This defines the RAG workflow and promotes the reusability of individual elements."
   ]
  },
  {
   "cell_type": "code",
   "execution_count": 75,
   "metadata": {
    "executionInfo": {
     "elapsed": 519,
     "status": "ok",
     "timestamp": 1712051243806,
     "user": {
      "displayName": "Grgur Živković",
      "userId": "06498802482468520107"
     },
     "user_tz": -120
    },
    "id": "8GscAEkk38A3"
   },
   "outputs": [],
   "source": [
    "# Helper function for concatenating the content of retrieved documents (no need to pass metadata in the query)\n",
    "def format_docs(docs):\n",
    "    return \"\\n\\n\".join(doc.page_content for doc in docs)"
   ]
  },
  {
   "cell_type": "code",
   "execution_count": 76,
   "metadata": {
    "executionInfo": {
     "elapsed": 4,
     "status": "ok",
     "timestamp": 1712051244634,
     "user": {
      "displayName": "Grgur Živković",
      "userId": "06498802482468520107"
     },
     "user_tz": -120
    },
    "id": "P90MDpflewk2"
   },
   "outputs": [],
   "source": [
    "rag_chain = (\n",
    "    {\"context\": retriever | format_docs, \"question\": RunnablePassthrough()}\n",
    "    | prompt\n",
    "    | llm\n",
    "    | StrOutputParser()\n",
    ")"
   ]
  },
  {
   "cell_type": "markdown",
   "metadata": {
    "id": "CLbRcEd09DWs"
   },
   "source": [
    "An example chain that allows receiving multiple parameters in the prompt and defines the exact parameter based on which the document retrieval is performed. In this case, it's the 'question' parameter."
   ]
  },
  {
   "cell_type": "code",
   "execution_count": 77,
   "metadata": {
    "executionInfo": {
     "elapsed": 6,
     "status": "ok",
     "timestamp": 1712051258761,
     "user": {
      "displayName": "Grgur Živković",
      "userId": "06498802482468520107"
     },
     "user_tz": -120
    },
    "id": "Jcgrshjrp-Bf"
   },
   "outputs": [],
   "source": [
    "rag_chain_example = (\n",
    "    {\n",
    "        \"context\": itemgetter(\"question\") | retriever | format_docs,\n",
    "        \"question\": itemgetter(\"question\"),\n",
    "        \"answer\": itemgetter(\"answer\"),\n",
    "    }\n",
    "    | custom_prompt_feedback\n",
    "    | llm\n",
    "    | StrOutputParser()\n",
    ")"
   ]
  },
  {
   "cell_type": "markdown",
   "metadata": {
    "id": "iP3VlXUB38A4"
   },
   "source": [
    "### 8. INFERENCE"
   ]
  },
  {
   "cell_type": "markdown",
   "metadata": {
    "id": "aaEAI0DP-BdJ"
   },
   "source": [
    "Finally, a specific query is posed to the LLM, and by traversing through the entire chain, an answer to the posed question is obtained."
   ]
  },
  {
   "cell_type": "code",
   "execution_count": 91,
   "metadata": {
    "colab": {
     "base_uri": "https://localhost:8080/"
    },
    "executionInfo": {
     "elapsed": 24535,
     "status": "ok",
     "timestamp": 1712051792003,
     "user": {
      "displayName": "Grgur Živković",
      "userId": "06498802482468520107"
     },
     "user_tz": -120
    },
    "id": "vlIauQoinaKj",
    "outputId": "517a147b-75b3-4596-c1d0-343aaee2d2c4"
   },
   "outputs": [
    {
     "name": "stderr",
     "output_type": "stream",
     "text": [
      "Llama.generate: prefix-match hit\n"
     ]
    },
    {
     "name": "stdout",
     "output_type": "stream",
     "text": [
      " Gradient descent is an optimization technique used to minimize multidimensional smooth convex objective functions of the form J : Rn →R. It involves iteratively adjusting the location of the variables in the direction of the negative gradient of the function, with the goal of finding the global minimum of the function."
     ]
    }
   ],
   "source": [
    "response = rag_chain.invoke(\"\"\"What is gradient descent?\"\"\")"
   ]
  },
  {
   "cell_type": "markdown",
   "metadata": {
    "id": "icl1GXID3tAZ"
   },
   "source": [
    "### 9. CITACIJE"
   ]
  },
  {
   "cell_type": "code",
   "execution_count": 86,
   "metadata": {
    "executionInfo": {
     "elapsed": 451,
     "status": "ok",
     "timestamp": 1712051471046,
     "user": {
      "displayName": "Grgur Živković",
      "userId": "06498802482468520107"
     },
     "user_tz": -120
    },
    "id": "Nq5ntU_OqIpX"
   },
   "outputs": [],
   "source": [
    "input_pdf_file_path_intro = r\"Intro_To_Machine_Learning(234_pages).pdf\"\n",
    "output_pdf_file_path_intro = r\"Intro_To_Machine_Learning(234_pages) - highlighted.pdf\""
   ]
  },
  {
   "cell_type": "markdown",
   "metadata": {
    "id": "HkU1tsWOAg5x"
   },
   "source": [
    "Reminder -> number of pages of retrieved documents for the given query:"
   ]
  },
  {
   "cell_type": "code",
   "execution_count": 88,
   "metadata": {
    "colab": {
     "base_uri": "https://localhost:8080/"
    },
    "executionInfo": {
     "elapsed": 551,
     "status": "ok",
     "timestamp": 1712051548672,
     "user": {
      "displayName": "Grgur Živković",
      "userId": "06498802482468520107"
     },
     "user_tz": -120
    },
    "id": "MpgPeJHnqIpX",
    "outputId": "ab357733-8e9b-4535-d25b-b88fc1b236f8"
   },
   "outputs": [
    {
     "data": {
      "text/plain": [
       "[111, 111, 98, 98]"
      ]
     },
     "execution_count": 88,
     "metadata": {},
     "output_type": "execute_result"
    }
   ],
   "source": [
    "page_numbers = [doc.metadata[\"page\"] for doc in retr_docs]\n",
    "page_numbers"
   ]
  },
  {
   "cell_type": "markdown",
   "metadata": {
    "id": "ytaLlyrHBJ89"
   },
   "source": [
    "Function that highlights the content of retrieved documents in the original PDF document and then saves a new highlighted PDF document."
   ]
  },
  {
   "cell_type": "code",
   "execution_count": 84,
   "metadata": {
    "executionInfo": {
     "elapsed": 470,
     "status": "ok",
     "timestamp": 1712051443376,
     "user": {
      "displayName": "Grgur Živković",
      "userId": "06498802482468520107"
     },
     "user_tz": -120
    },
    "id": "fT09YGk_qIpX"
   },
   "outputs": [],
   "source": [
    "def highlight_pdf(input_pdf_file_path, retr_docs, output_pdf_file_path):\n",
    "\n",
    "    doc = fitz.open(input_pdf_file_path)\n",
    "\n",
    "    for _, retr_doc in enumerate(retr_docs):\n",
    "\n",
    "        cont_splits = retr_doc.page_content.split(\"\\n\")\n",
    "\n",
    "        page = doc[retr_doc.metadata[\"page\"]]\n",
    "\n",
    "        for cont_split in cont_splits:\n",
    "            for rect in page.search_for(f\"{cont_split}\"):\n",
    "                # Add a highlight annotation for each occurrence\n",
    "                page.add_highlight_annot(rect)\n",
    "\n",
    "    doc.save(output_pdf_file_path)\n",
    "    doc.close()"
   ]
  },
  {
   "cell_type": "code",
   "execution_count": 89,
   "metadata": {
    "executionInfo": {
     "elapsed": 430,
     "status": "ok",
     "timestamp": 1712051566032,
     "user": {
      "displayName": "Grgur Živković",
      "userId": "06498802482468520107"
     },
     "user_tz": -120
    },
    "id": "iUZ9yRLOqIpY"
   },
   "outputs": [],
   "source": [
    "highlight_pdf(input_pdf_file_path_intro, retr_docs, output_pdf_file_path_intro)"
   ]
  },
  {
   "cell_type": "markdown",
   "metadata": {
    "id": "XKHXZnebCD8V"
   },
   "source": [
    "The new highlighted document is saved. By opening the new document, you can navigate to one of the relevant pages [112, 99] and see the highlighted text. (Note that the page number is taken as the page number of the PDF document, not the page number from the original text)"
   ]
  },
  {
   "cell_type": "markdown",
   "metadata": {
    "id": "uh8ZbLABChXR"
   },
   "source": [
    "![image.png](data:image/png;base64,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)"
   ]
  }
 ],
 "metadata": {
  "accelerator": "GPU",
  "colab": {
   "gpuType": "T4",
   "provenance": [
    {
     "file_id": "10GbqELg_O6aQfLTbDYXs6pVnjZ9t--KP",
     "timestamp": 1712006751468
    }
   ]
  },
  "kernelspec": {
   "display_name": "Python 3",
   "name": "python3"
  },
  "language_info": {
   "codemirror_mode": {
    "name": "ipython",
    "version": 3
   },
   "file_extension": ".py",
   "mimetype": "text/x-python",
   "name": "python",
   "nbconvert_exporter": "python",
   "pygments_lexer": "ipython3",
   "version": "3.11.4"
  },
  "widgets": {
   "application/vnd.jupyter.widget-state+json": {
    "1a6cabfec77b45da81518d7f56d755e5": {
     "model_module": "@jupyter-widgets/controls",
     "model_module_version": "1.5.0",
     "model_name": "HTMLModel",
     "state": {
      "_dom_classes": [],
      "_model_module": "@jupyter-widgets/controls",
      "_model_module_version": "1.5.0",
      "_model_name": "HTMLModel",
      "_view_count": null,
      "_view_module": "@jupyter-widgets/controls",
      "_view_module_version": "1.5.0",
      "_view_name": "HTMLView",
      "description": "",
      "description_tooltip": null,
      "layout": "IPY_MODEL_b40e26966ba64938adf175ec71f15e49",
      "placeholder": "​",
      "style": "IPY_MODEL_9d7373182cc5448c8fddbff3f3c571f9",
      "value": " 9.76G/9.76G [01:13&lt;00:00, 272MB/s]"
     }
    },
    "42d2a260b300448a90ed5fc0001b5828": {
     "model_module": "@jupyter-widgets/base",
     "model_module_version": "1.2.0",
     "model_name": "LayoutModel",
     "state": {
      "_model_module": "@jupyter-widgets/base",
      "_model_module_version": "1.2.0",
      "_model_name": "LayoutModel",
      "_view_count": null,
      "_view_module": "@jupyter-widgets/base",
      "_view_module_version": "1.2.0",
      "_view_name": "LayoutView",
      "align_content": null,
      "align_items": null,
      "align_self": null,
      "border": null,
      "bottom": null,
      "display": null,
      "flex": null,
      "flex_flow": null,
      "grid_area": null,
      "grid_auto_columns": null,
      "grid_auto_flow": null,
      "grid_auto_rows": null,
      "grid_column": null,
      "grid_gap": null,
      "grid_row": null,
      "grid_template_areas": null,
      "grid_template_columns": null,
      "grid_template_rows": null,
      "height": null,
      "justify_content": null,
      "justify_items": null,
      "left": null,
      "margin": null,
      "max_height": null,
      "max_width": null,
      "min_height": null,
      "min_width": null,
      "object_fit": null,
      "object_position": null,
      "order": null,
      "overflow": null,
      "overflow_x": null,
      "overflow_y": null,
      "padding": null,
      "right": null,
      "top": null,
      "visibility": null,
      "width": null
     }
    },
    "5ea57de468fc48ce81ba4dbbd1d06cd4": {
     "model_module": "@jupyter-widgets/controls",
     "model_module_version": "1.5.0",
     "model_name": "FloatProgressModel",
     "state": {
      "_dom_classes": [],
      "_model_module": "@jupyter-widgets/controls",
      "_model_module_version": "1.5.0",
      "_model_name": "FloatProgressModel",
      "_view_count": null,
      "_view_module": "@jupyter-widgets/controls",
      "_view_module_version": "1.5.0",
      "_view_name": "ProgressView",
      "bar_style": "success",
      "description": "",
      "description_tooltip": null,
      "layout": "IPY_MODEL_bf9eff5debbd4dffb82454a978fb3720",
      "max": 9763701888,
      "min": 0,
      "orientation": "horizontal",
      "style": "IPY_MODEL_f2b98e8699404439815d35fa94ecbab3",
      "value": 9763701888
     }
    },
    "6ba2c014b3c640cc92e7c5b933022bdf": {
     "model_module": "@jupyter-widgets/controls",
     "model_module_version": "1.5.0",
     "model_name": "DescriptionStyleModel",
     "state": {
      "_model_module": "@jupyter-widgets/controls",
      "_model_module_version": "1.5.0",
      "_model_name": "DescriptionStyleModel",
      "_view_count": null,
      "_view_module": "@jupyter-widgets/base",
      "_view_module_version": "1.2.0",
      "_view_name": "StyleView",
      "description_width": ""
     }
    },
    "9d7373182cc5448c8fddbff3f3c571f9": {
     "model_module": "@jupyter-widgets/controls",
     "model_module_version": "1.5.0",
     "model_name": "DescriptionStyleModel",
     "state": {
      "_model_module": "@jupyter-widgets/controls",
      "_model_module_version": "1.5.0",
      "_model_name": "DescriptionStyleModel",
      "_view_count": null,
      "_view_module": "@jupyter-widgets/base",
      "_view_module_version": "1.2.0",
      "_view_name": "StyleView",
      "description_width": ""
     }
    },
    "b2736a11ac4c4b5ca99d5e3a30a4c1da": {
     "model_module": "@jupyter-widgets/controls",
     "model_module_version": "1.5.0",
     "model_name": "HTMLModel",
     "state": {
      "_dom_classes": [],
      "_model_module": "@jupyter-widgets/controls",
      "_model_module_version": "1.5.0",
      "_model_name": "HTMLModel",
      "_view_count": null,
      "_view_module": "@jupyter-widgets/controls",
      "_view_module_version": "1.5.0",
      "_view_name": "HTMLView",
      "description": "",
      "description_tooltip": null,
      "layout": "IPY_MODEL_b508d81395f547368d05df021b0d8859",
      "placeholder": "​",
      "style": "IPY_MODEL_6ba2c014b3c640cc92e7c5b933022bdf",
      "value": "llama-2-13b-chat.ggmlv3.q5_1.bin: 100%"
     }
    },
    "b40e26966ba64938adf175ec71f15e49": {
     "model_module": "@jupyter-widgets/base",
     "model_module_version": "1.2.0",
     "model_name": "LayoutModel",
     "state": {
      "_model_module": "@jupyter-widgets/base",
      "_model_module_version": "1.2.0",
      "_model_name": "LayoutModel",
      "_view_count": null,
      "_view_module": "@jupyter-widgets/base",
      "_view_module_version": "1.2.0",
      "_view_name": "LayoutView",
      "align_content": null,
      "align_items": null,
      "align_self": null,
      "border": null,
      "bottom": null,
      "display": null,
      "flex": null,
      "flex_flow": null,
      "grid_area": null,
      "grid_auto_columns": null,
      "grid_auto_flow": null,
      "grid_auto_rows": null,
      "grid_column": null,
      "grid_gap": null,
      "grid_row": null,
      "grid_template_areas": null,
      "grid_template_columns": null,
      "grid_template_rows": null,
      "height": null,
      "justify_content": null,
      "justify_items": null,
      "left": null,
      "margin": null,
      "max_height": null,
      "max_width": null,
      "min_height": null,
      "min_width": null,
      "object_fit": null,
      "object_position": null,
      "order": null,
      "overflow": null,
      "overflow_x": null,
      "overflow_y": null,
      "padding": null,
      "right": null,
      "top": null,
      "visibility": null,
      "width": null
     }
    },
    "b508d81395f547368d05df021b0d8859": {
     "model_module": "@jupyter-widgets/base",
     "model_module_version": "1.2.0",
     "model_name": "LayoutModel",
     "state": {
      "_model_module": "@jupyter-widgets/base",
      "_model_module_version": "1.2.0",
      "_model_name": "LayoutModel",
      "_view_count": null,
      "_view_module": "@jupyter-widgets/base",
      "_view_module_version": "1.2.0",
      "_view_name": "LayoutView",
      "align_content": null,
      "align_items": null,
      "align_self": null,
      "border": null,
      "bottom": null,
      "display": null,
      "flex": null,
      "flex_flow": null,
      "grid_area": null,
      "grid_auto_columns": null,
      "grid_auto_flow": null,
      "grid_auto_rows": null,
      "grid_column": null,
      "grid_gap": null,
      "grid_row": null,
      "grid_template_areas": null,
      "grid_template_columns": null,
      "grid_template_rows": null,
      "height": null,
      "justify_content": null,
      "justify_items": null,
      "left": null,
      "margin": null,
      "max_height": null,
      "max_width": null,
      "min_height": null,
      "min_width": null,
      "object_fit": null,
      "object_position": null,
      "order": null,
      "overflow": null,
      "overflow_x": null,
      "overflow_y": null,
      "padding": null,
      "right": null,
      "top": null,
      "visibility": null,
      "width": null
     }
    },
    "bf9eff5debbd4dffb82454a978fb3720": {
     "model_module": "@jupyter-widgets/base",
     "model_module_version": "1.2.0",
     "model_name": "LayoutModel",
     "state": {
      "_model_module": "@jupyter-widgets/base",
      "_model_module_version": "1.2.0",
      "_model_name": "LayoutModel",
      "_view_count": null,
      "_view_module": "@jupyter-widgets/base",
      "_view_module_version": "1.2.0",
      "_view_name": "LayoutView",
      "align_content": null,
      "align_items": null,
      "align_self": null,
      "border": null,
      "bottom": null,
      "display": null,
      "flex": null,
      "flex_flow": null,
      "grid_area": null,
      "grid_auto_columns": null,
      "grid_auto_flow": null,
      "grid_auto_rows": null,
      "grid_column": null,
      "grid_gap": null,
      "grid_row": null,
      "grid_template_areas": null,
      "grid_template_columns": null,
      "grid_template_rows": null,
      "height": null,
      "justify_content": null,
      "justify_items": null,
      "left": null,
      "margin": null,
      "max_height": null,
      "max_width": null,
      "min_height": null,
      "min_width": null,
      "object_fit": null,
      "object_position": null,
      "order": null,
      "overflow": null,
      "overflow_x": null,
      "overflow_y": null,
      "padding": null,
      "right": null,
      "top": null,
      "visibility": null,
      "width": null
     }
    },
    "c4c5d8ce6bc6465ebee973628fbf5850": {
     "model_module": "@jupyter-widgets/controls",
     "model_module_version": "1.5.0",
     "model_name": "HBoxModel",
     "state": {
      "_dom_classes": [],
      "_model_module": "@jupyter-widgets/controls",
      "_model_module_version": "1.5.0",
      "_model_name": "HBoxModel",
      "_view_count": null,
      "_view_module": "@jupyter-widgets/controls",
      "_view_module_version": "1.5.0",
      "_view_name": "HBoxView",
      "box_style": "",
      "children": [
       "IPY_MODEL_b2736a11ac4c4b5ca99d5e3a30a4c1da",
       "IPY_MODEL_5ea57de468fc48ce81ba4dbbd1d06cd4",
       "IPY_MODEL_1a6cabfec77b45da81518d7f56d755e5"
      ],
      "layout": "IPY_MODEL_42d2a260b300448a90ed5fc0001b5828"
     }
    },
    "f2b98e8699404439815d35fa94ecbab3": {
     "model_module": "@jupyter-widgets/controls",
     "model_module_version": "1.5.0",
     "model_name": "ProgressStyleModel",
     "state": {
      "_model_module": "@jupyter-widgets/controls",
      "_model_module_version": "1.5.0",
      "_model_name": "ProgressStyleModel",
      "_view_count": null,
      "_view_module": "@jupyter-widgets/base",
      "_view_module_version": "1.2.0",
      "_view_name": "StyleView",
      "bar_color": null,
      "description_width": ""
     }
    }
   }
  }
 },
 "nbformat": 4,
 "nbformat_minor": 0
}
